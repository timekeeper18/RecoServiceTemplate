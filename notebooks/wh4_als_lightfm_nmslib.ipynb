{
 "cells": [
  {
   "cell_type": "markdown",
   "id": "1e7ebc59",
   "metadata": {
    "ExecuteTime": {
     "end_time": "2022-11-28T14:25:54.586122Z",
     "start_time": "2022-11-28T14:25:54.579897Z"
    }
   },
   "source": [
    "# Домашнее задание HW 4"
   ]
  },
  {
   "cell_type": "markdown",
   "id": "f8cb6db6",
   "metadata": {},
   "source": [
    "## Задание HW 4\n",
    "\n",
    "Домашнее задание состоит из нескольких блоков.\n",
    "\n",
    "\n",
    "### Эксперименты в ipynb ноутбуках (11 баллов)\n",
    "- Необходимо будет перебрать $N$ моделей $(N \\geq 2)$ матричной факторизации и перебрать у них $K$ гиперпараметров $(K \\geq 2)$ **(5 баллов)**\n",
    "    - Для перебора гиперпараметров можно использовать [`Optuna`](https://github.com/optuna/optuna), [`Hyperopt`](https://github.com/hyperopt/hyperopt)\n",
    "- Воспользоваться методом приближенного поиска соседей для выдачи рекомендаций. **(2 балла)**\n",
    "    - Можно использовать любые удобные: [`Annoy`](https://github.com/spotify/annoy), [`nmslib`](https://github.com/nmslib/nmslib) и.т.д\n",
    "- Добавить 3 \"аватаров\" (искусственных пользователей) и посмотреть рекомендации итоговой модели на них. Объяснить почему добавили именно таких пользователей. **(2 балла)**\n",
    "- Придумать как можно обработать рекомендации для холодных пользователей. **(2 балла)**\n",
    "\n",
    "Примечание: за невоспроизводимый код в ноутбуках (например, нарушен порядок выполнения ячеек, вызываются переменные, которые нигде не были объявлены ранее и.т.п) будут штрафы на усмотрение проверяющего.\n",
    "\n",
    "\n",
    "### Реализация итоговой модели в сервисе (9 баллов)\n",
    "- Пробитие бейзлайна $MAP@10 \\geq 0.074921$ **(6 баллов)**\n",
    "- Код сервиса соответствует критериям читаемости и воспроизводимости **(3 балла)**"
   ]
  },
  {
   "cell_type": "markdown",
   "id": "c89f636f",
   "metadata": {},
   "source": [
    "## Imports"
   ]
  },
  {
   "cell_type": "code",
   "execution_count": 1,
   "id": "87d20a23",
   "metadata": {
    "ExecuteTime": {
     "end_time": "2022-12-13T15:57:50.910453Z",
     "start_time": "2022-12-13T15:57:49.639773Z"
    }
   },
   "outputs": [],
   "source": [
    "import warnings\n",
    "\n",
    "warnings.filterwarnings('ignore')\n",
    "\n",
    "import pandas as pd\n",
    "from collections import Counter\n",
    "import time\n",
    "import numpy as np\n",
    "from pprint import pprint\n",
    "import dill\n",
    "from implicit.als import AlternatingLeastSquares\n",
    "\n",
    "from rectools.metrics import Precision, Recall, MAP, calc_metrics\n",
    "from rectools.models import PopularModel, RandomModel, ImplicitALSWrapperModel\n",
    "from rectools import Columns\n",
    "from rectools.dataset import Dataset\n",
    "from rectools.models import ImplicitALSWrapperModel, LightFMWrapperModel\n",
    "import nmslib\n",
    "\n",
    "import optuna\n",
    "\n",
    "from pathlib import Path\n",
    "\n",
    "from lightfm import LightFM"
   ]
  },
  {
   "cell_type": "markdown",
   "id": "aae1ebed",
   "metadata": {
    "ExecuteTime": {
     "end_time": "2022-11-28T14:35:08.195796Z",
     "start_time": "2022-11-28T14:35:08.190083Z"
    }
   },
   "source": [
    "## Подгружаем данные"
   ]
  },
  {
   "cell_type": "code",
   "execution_count": 2,
   "id": "35d73d9d",
   "metadata": {
    "ExecuteTime": {
     "end_time": "2022-12-13T15:57:50.915126Z",
     "start_time": "2022-12-13T15:57:50.912350Z"
    }
   },
   "outputs": [],
   "source": [
    "DATA_PATH = Path(\"data_original\")"
   ]
  },
  {
   "cell_type": "code",
   "execution_count": 3,
   "id": "98bb41d1",
   "metadata": {
    "ExecuteTime": {
     "end_time": "2022-12-13T15:57:54.499371Z",
     "start_time": "2022-12-13T15:57:50.916567Z"
    }
   },
   "outputs": [],
   "source": [
    "users = pd.read_csv(DATA_PATH / 'users.csv')\n",
    "items = pd.read_csv(DATA_PATH / 'items.csv')\n",
    "interactions = pd.read_csv(DATA_PATH / 'interactions.csv')"
   ]
  },
  {
   "cell_type": "code",
   "execution_count": 4,
   "id": "b32841da",
   "metadata": {
    "ExecuteTime": {
     "end_time": "2022-12-13T15:57:54.526785Z",
     "start_time": "2022-12-13T15:57:54.505035Z"
    }
   },
   "outputs": [
    {
     "data": {
      "text/html": [
       "<div>\n",
       "<style scoped>\n",
       "    .dataframe tbody tr th:only-of-type {\n",
       "        vertical-align: middle;\n",
       "    }\n",
       "\n",
       "    .dataframe tbody tr th {\n",
       "        vertical-align: top;\n",
       "    }\n",
       "\n",
       "    .dataframe thead th {\n",
       "        text-align: right;\n",
       "    }\n",
       "</style>\n",
       "<table border=\"1\" class=\"dataframe\">\n",
       "  <thead>\n",
       "    <tr style=\"text-align: right;\">\n",
       "      <th></th>\n",
       "      <th>user_id</th>\n",
       "      <th>age</th>\n",
       "      <th>income</th>\n",
       "      <th>sex</th>\n",
       "      <th>kids_flg</th>\n",
       "    </tr>\n",
       "  </thead>\n",
       "  <tbody>\n",
       "    <tr>\n",
       "      <th>0</th>\n",
       "      <td>973171</td>\n",
       "      <td>age_25_34</td>\n",
       "      <td>income_60_90</td>\n",
       "      <td>М</td>\n",
       "      <td>1</td>\n",
       "    </tr>\n",
       "    <tr>\n",
       "      <th>1</th>\n",
       "      <td>962099</td>\n",
       "      <td>age_18_24</td>\n",
       "      <td>income_20_40</td>\n",
       "      <td>М</td>\n",
       "      <td>0</td>\n",
       "    </tr>\n",
       "    <tr>\n",
       "      <th>2</th>\n",
       "      <td>1047345</td>\n",
       "      <td>age_45_54</td>\n",
       "      <td>income_40_60</td>\n",
       "      <td>Ж</td>\n",
       "      <td>0</td>\n",
       "    </tr>\n",
       "    <tr>\n",
       "      <th>3</th>\n",
       "      <td>721985</td>\n",
       "      <td>age_45_54</td>\n",
       "      <td>income_20_40</td>\n",
       "      <td>Ж</td>\n",
       "      <td>0</td>\n",
       "    </tr>\n",
       "    <tr>\n",
       "      <th>4</th>\n",
       "      <td>704055</td>\n",
       "      <td>age_35_44</td>\n",
       "      <td>income_60_90</td>\n",
       "      <td>Ж</td>\n",
       "      <td>0</td>\n",
       "    </tr>\n",
       "    <tr>\n",
       "      <th>...</th>\n",
       "      <td>...</td>\n",
       "      <td>...</td>\n",
       "      <td>...</td>\n",
       "      <td>...</td>\n",
       "      <td>...</td>\n",
       "    </tr>\n",
       "    <tr>\n",
       "      <th>840192</th>\n",
       "      <td>339025</td>\n",
       "      <td>age_65_inf</td>\n",
       "      <td>income_0_20</td>\n",
       "      <td>Ж</td>\n",
       "      <td>0</td>\n",
       "    </tr>\n",
       "    <tr>\n",
       "      <th>840193</th>\n",
       "      <td>983617</td>\n",
       "      <td>age_18_24</td>\n",
       "      <td>income_20_40</td>\n",
       "      <td>Ж</td>\n",
       "      <td>1</td>\n",
       "    </tr>\n",
       "    <tr>\n",
       "      <th>840194</th>\n",
       "      <td>251008</td>\n",
       "      <td>NaN</td>\n",
       "      <td>NaN</td>\n",
       "      <td>NaN</td>\n",
       "      <td>0</td>\n",
       "    </tr>\n",
       "    <tr>\n",
       "      <th>840195</th>\n",
       "      <td>590706</td>\n",
       "      <td>NaN</td>\n",
       "      <td>NaN</td>\n",
       "      <td>Ж</td>\n",
       "      <td>0</td>\n",
       "    </tr>\n",
       "    <tr>\n",
       "      <th>840196</th>\n",
       "      <td>166555</td>\n",
       "      <td>age_65_inf</td>\n",
       "      <td>income_20_40</td>\n",
       "      <td>Ж</td>\n",
       "      <td>0</td>\n",
       "    </tr>\n",
       "  </tbody>\n",
       "</table>\n",
       "<p>840197 rows × 5 columns</p>\n",
       "</div>"
      ],
      "text/plain": [
       "        user_id         age        income  sex  kids_flg\n",
       "0        973171   age_25_34  income_60_90    М         1\n",
       "1        962099   age_18_24  income_20_40    М         0\n",
       "2       1047345   age_45_54  income_40_60    Ж         0\n",
       "3        721985   age_45_54  income_20_40    Ж         0\n",
       "4        704055   age_35_44  income_60_90    Ж         0\n",
       "...         ...         ...           ...  ...       ...\n",
       "840192   339025  age_65_inf   income_0_20    Ж         0\n",
       "840193   983617   age_18_24  income_20_40    Ж         1\n",
       "840194   251008         NaN           NaN  NaN         0\n",
       "840195   590706         NaN           NaN    Ж         0\n",
       "840196   166555  age_65_inf  income_20_40    Ж         0\n",
       "\n",
       "[840197 rows x 5 columns]"
      ]
     },
     "execution_count": 4,
     "metadata": {},
     "output_type": "execute_result"
    }
   ],
   "source": [
    "users"
   ]
  },
  {
   "cell_type": "code",
   "execution_count": 5,
   "id": "7de3ae37",
   "metadata": {
    "ExecuteTime": {
     "end_time": "2022-12-13T15:57:54.547016Z",
     "start_time": "2022-12-13T15:57:54.531503Z"
    }
   },
   "outputs": [
    {
     "data": {
      "text/html": [
       "<div>\n",
       "<style scoped>\n",
       "    .dataframe tbody tr th:only-of-type {\n",
       "        vertical-align: middle;\n",
       "    }\n",
       "\n",
       "    .dataframe tbody tr th {\n",
       "        vertical-align: top;\n",
       "    }\n",
       "\n",
       "    .dataframe thead th {\n",
       "        text-align: right;\n",
       "    }\n",
       "</style>\n",
       "<table border=\"1\" class=\"dataframe\">\n",
       "  <thead>\n",
       "    <tr style=\"text-align: right;\">\n",
       "      <th></th>\n",
       "      <th>item_id</th>\n",
       "      <th>content_type</th>\n",
       "      <th>title</th>\n",
       "      <th>title_orig</th>\n",
       "      <th>release_year</th>\n",
       "      <th>genres</th>\n",
       "      <th>countries</th>\n",
       "      <th>for_kids</th>\n",
       "      <th>age_rating</th>\n",
       "      <th>studios</th>\n",
       "      <th>directors</th>\n",
       "      <th>actors</th>\n",
       "      <th>description</th>\n",
       "      <th>keywords</th>\n",
       "    </tr>\n",
       "  </thead>\n",
       "  <tbody>\n",
       "    <tr>\n",
       "      <th>0</th>\n",
       "      <td>10711</td>\n",
       "      <td>film</td>\n",
       "      <td>Поговори с ней</td>\n",
       "      <td>Hable con ella</td>\n",
       "      <td>2002.0</td>\n",
       "      <td>драмы, зарубежные, детективы, мелодрамы</td>\n",
       "      <td>Испания</td>\n",
       "      <td>NaN</td>\n",
       "      <td>16.0</td>\n",
       "      <td>NaN</td>\n",
       "      <td>Педро Альмодовар</td>\n",
       "      <td>Адольфо Фернандес, Ана Фернандес, Дарио Гранди...</td>\n",
       "      <td>Мелодрама легендарного Педро Альмодовара «Пого...</td>\n",
       "      <td>Поговори, ней, 2002, Испания, друзья, любовь, ...</td>\n",
       "    </tr>\n",
       "    <tr>\n",
       "      <th>1</th>\n",
       "      <td>2508</td>\n",
       "      <td>film</td>\n",
       "      <td>Голые перцы</td>\n",
       "      <td>Search Party</td>\n",
       "      <td>2014.0</td>\n",
       "      <td>зарубежные, приключения, комедии</td>\n",
       "      <td>США</td>\n",
       "      <td>NaN</td>\n",
       "      <td>16.0</td>\n",
       "      <td>NaN</td>\n",
       "      <td>Скот Армстронг</td>\n",
       "      <td>Адам Палли, Брайан Хаски, Дж.Б. Смув, Джейсон ...</td>\n",
       "      <td>Уморительная современная комедия на популярную...</td>\n",
       "      <td>Голые, перцы, 2014, США, друзья, свадьбы, прео...</td>\n",
       "    </tr>\n",
       "    <tr>\n",
       "      <th>2</th>\n",
       "      <td>10716</td>\n",
       "      <td>film</td>\n",
       "      <td>Тактическая сила</td>\n",
       "      <td>Tactical Force</td>\n",
       "      <td>2011.0</td>\n",
       "      <td>криминал, зарубежные, триллеры, боевики, комедии</td>\n",
       "      <td>Канада</td>\n",
       "      <td>NaN</td>\n",
       "      <td>16.0</td>\n",
       "      <td>NaN</td>\n",
       "      <td>Адам П. Калтраро</td>\n",
       "      <td>Адриан Холмс, Даррен Шалави, Джерри Вассерман,...</td>\n",
       "      <td>Профессиональный рестлер Стив Остин («Все или ...</td>\n",
       "      <td>Тактическая, сила, 2011, Канада, бандиты, ганг...</td>\n",
       "    </tr>\n",
       "    <tr>\n",
       "      <th>3</th>\n",
       "      <td>7868</td>\n",
       "      <td>film</td>\n",
       "      <td>45 лет</td>\n",
       "      <td>45 Years</td>\n",
       "      <td>2015.0</td>\n",
       "      <td>драмы, зарубежные, мелодрамы</td>\n",
       "      <td>Великобритания</td>\n",
       "      <td>NaN</td>\n",
       "      <td>16.0</td>\n",
       "      <td>NaN</td>\n",
       "      <td>Эндрю Хэй</td>\n",
       "      <td>Александра Риддлстон-Барретт, Джеральдин Джейм...</td>\n",
       "      <td>Шарлотта Рэмплинг, Том Кортни, Джеральдин Джей...</td>\n",
       "      <td>45, лет, 2015, Великобритания, брак, жизнь, лю...</td>\n",
       "    </tr>\n",
       "    <tr>\n",
       "      <th>4</th>\n",
       "      <td>16268</td>\n",
       "      <td>film</td>\n",
       "      <td>Все решает мгновение</td>\n",
       "      <td>NaN</td>\n",
       "      <td>1978.0</td>\n",
       "      <td>драмы, спорт, советские, мелодрамы</td>\n",
       "      <td>СССР</td>\n",
       "      <td>NaN</td>\n",
       "      <td>12.0</td>\n",
       "      <td>Ленфильм</td>\n",
       "      <td>Виктор Садовский</td>\n",
       "      <td>Александр Абдулов, Александр Демьяненко, Алекс...</td>\n",
       "      <td>Расчетливая чаровница из советского кинохита «...</td>\n",
       "      <td>Все, решает, мгновение, 1978, СССР, сильные, ж...</td>\n",
       "    </tr>\n",
       "    <tr>\n",
       "      <th>...</th>\n",
       "      <td>...</td>\n",
       "      <td>...</td>\n",
       "      <td>...</td>\n",
       "      <td>...</td>\n",
       "      <td>...</td>\n",
       "      <td>...</td>\n",
       "      <td>...</td>\n",
       "      <td>...</td>\n",
       "      <td>...</td>\n",
       "      <td>...</td>\n",
       "      <td>...</td>\n",
       "      <td>...</td>\n",
       "      <td>...</td>\n",
       "      <td>...</td>\n",
       "    </tr>\n",
       "    <tr>\n",
       "      <th>15958</th>\n",
       "      <td>6443</td>\n",
       "      <td>series</td>\n",
       "      <td>Полярный круг</td>\n",
       "      <td>Arctic Circle</td>\n",
       "      <td>2018.0</td>\n",
       "      <td>драмы, триллеры, криминал</td>\n",
       "      <td>Финляндия, Германия</td>\n",
       "      <td>NaN</td>\n",
       "      <td>16.0</td>\n",
       "      <td>NaN</td>\n",
       "      <td>Ханну Салонен</td>\n",
       "      <td>Иина Куустонен, Максимилиан Брюкнер, Пихла Вии...</td>\n",
       "      <td>Во время погони за браконьерами по лесу, сотру...</td>\n",
       "      <td>убийство, вирус, расследование преступления, н...</td>\n",
       "    </tr>\n",
       "    <tr>\n",
       "      <th>15959</th>\n",
       "      <td>2367</td>\n",
       "      <td>series</td>\n",
       "      <td>Надежда</td>\n",
       "      <td>NaN</td>\n",
       "      <td>2020.0</td>\n",
       "      <td>драмы, боевики</td>\n",
       "      <td>Россия</td>\n",
       "      <td>0.0</td>\n",
       "      <td>18.0</td>\n",
       "      <td>NaN</td>\n",
       "      <td>Елена Хазанова</td>\n",
       "      <td>Виктория Исакова, Александр Кузьмин, Алексей М...</td>\n",
       "      <td>Оригинальный киносериал от создателей «Бывших»...</td>\n",
       "      <td>Надежда, 2020, Россия</td>\n",
       "    </tr>\n",
       "    <tr>\n",
       "      <th>15960</th>\n",
       "      <td>10632</td>\n",
       "      <td>series</td>\n",
       "      <td>Сговор</td>\n",
       "      <td>Hassel</td>\n",
       "      <td>2017.0</td>\n",
       "      <td>драмы, триллеры, криминал</td>\n",
       "      <td>Россия</td>\n",
       "      <td>0.0</td>\n",
       "      <td>18.0</td>\n",
       "      <td>NaN</td>\n",
       "      <td>Эшреф Рейбрук, Амир Камдин, Эрик Эгер</td>\n",
       "      <td>Ола Рапас, Алиетт Офейм, Уильма Лиден, Шанти Р...</td>\n",
       "      <td>Криминальная драма по мотивам романов о шведск...</td>\n",
       "      <td>Сговор, 2017, Россия</td>\n",
       "    </tr>\n",
       "    <tr>\n",
       "      <th>15961</th>\n",
       "      <td>4538</td>\n",
       "      <td>series</td>\n",
       "      <td>Среди камней</td>\n",
       "      <td>Darklands</td>\n",
       "      <td>2019.0</td>\n",
       "      <td>драмы, спорт, криминал</td>\n",
       "      <td>Россия</td>\n",
       "      <td>0.0</td>\n",
       "      <td>18.0</td>\n",
       "      <td>NaN</td>\n",
       "      <td>Марк О’Коннор, Конор МакМахон</td>\n",
       "      <td>Дэйн Уайт О’Хара, Томас Кэйн-Бирн, Джудит Родд...</td>\n",
       "      <td>Семнадцатилетний Дэмиен мечтает вырваться за п...</td>\n",
       "      <td>Среди, камней, 2019, Россия</td>\n",
       "    </tr>\n",
       "    <tr>\n",
       "      <th>15962</th>\n",
       "      <td>3206</td>\n",
       "      <td>series</td>\n",
       "      <td>Гоша</td>\n",
       "      <td>NaN</td>\n",
       "      <td>2019.0</td>\n",
       "      <td>комедии</td>\n",
       "      <td>Россия</td>\n",
       "      <td>0.0</td>\n",
       "      <td>16.0</td>\n",
       "      <td>NaN</td>\n",
       "      <td>Михаил Миронов</td>\n",
       "      <td>Мкртыч Арзуманян, Виктория Рунцова</td>\n",
       "      <td>Добродушный Гоша не может выйти из дома, чтобы...</td>\n",
       "      <td>Гоша, 2019, Россия</td>\n",
       "    </tr>\n",
       "  </tbody>\n",
       "</table>\n",
       "<p>15963 rows × 14 columns</p>\n",
       "</div>"
      ],
      "text/plain": [
       "       item_id content_type                 title      title_orig  \\\n",
       "0        10711         film        Поговори с ней  Hable con ella   \n",
       "1         2508         film           Голые перцы    Search Party   \n",
       "2        10716         film      Тактическая сила  Tactical Force   \n",
       "3         7868         film                45 лет        45 Years   \n",
       "4        16268         film  Все решает мгновение             NaN   \n",
       "...        ...          ...                   ...             ...   \n",
       "15958     6443       series         Полярный круг   Arctic Circle   \n",
       "15959     2367       series               Надежда             NaN   \n",
       "15960    10632       series                Сговор          Hassel   \n",
       "15961     4538       series          Среди камней      Darklands    \n",
       "15962     3206       series                  Гоша             NaN   \n",
       "\n",
       "       release_year                                            genres  \\\n",
       "0            2002.0           драмы, зарубежные, детективы, мелодрамы   \n",
       "1            2014.0                  зарубежные, приключения, комедии   \n",
       "2            2011.0  криминал, зарубежные, триллеры, боевики, комедии   \n",
       "3            2015.0                      драмы, зарубежные, мелодрамы   \n",
       "4            1978.0                драмы, спорт, советские, мелодрамы   \n",
       "...             ...                                               ...   \n",
       "15958        2018.0                         драмы, триллеры, криминал   \n",
       "15959        2020.0                                    драмы, боевики   \n",
       "15960        2017.0                         драмы, триллеры, криминал   \n",
       "15961        2019.0                            драмы, спорт, криминал   \n",
       "15962        2019.0                                           комедии   \n",
       "\n",
       "                 countries  for_kids  age_rating   studios  \\\n",
       "0                  Испания       NaN        16.0       NaN   \n",
       "1                      США       NaN        16.0       NaN   \n",
       "2                   Канада       NaN        16.0       NaN   \n",
       "3           Великобритания       NaN        16.0       NaN   \n",
       "4                     СССР       NaN        12.0  Ленфильм   \n",
       "...                    ...       ...         ...       ...   \n",
       "15958  Финляндия, Германия       NaN        16.0       NaN   \n",
       "15959               Россия       0.0        18.0       NaN   \n",
       "15960               Россия       0.0        18.0       NaN   \n",
       "15961               Россия       0.0        18.0       NaN   \n",
       "15962               Россия       0.0        16.0       NaN   \n",
       "\n",
       "                                   directors  \\\n",
       "0                           Педро Альмодовар   \n",
       "1                             Скот Армстронг   \n",
       "2                           Адам П. Калтраро   \n",
       "3                                  Эндрю Хэй   \n",
       "4                           Виктор Садовский   \n",
       "...                                      ...   \n",
       "15958                          Ханну Салонен   \n",
       "15959                         Елена Хазанова   \n",
       "15960  Эшреф Рейбрук, Амир Камдин, Эрик Эгер   \n",
       "15961          Марк О’Коннор, Конор МакМахон   \n",
       "15962                         Михаил Миронов   \n",
       "\n",
       "                                                  actors  \\\n",
       "0      Адольфо Фернандес, Ана Фернандес, Дарио Гранди...   \n",
       "1      Адам Палли, Брайан Хаски, Дж.Б. Смув, Джейсон ...   \n",
       "2      Адриан Холмс, Даррен Шалави, Джерри Вассерман,...   \n",
       "3      Александра Риддлстон-Барретт, Джеральдин Джейм...   \n",
       "4      Александр Абдулов, Александр Демьяненко, Алекс...   \n",
       "...                                                  ...   \n",
       "15958  Иина Куустонен, Максимилиан Брюкнер, Пихла Вии...   \n",
       "15959  Виктория Исакова, Александр Кузьмин, Алексей М...   \n",
       "15960  Ола Рапас, Алиетт Офейм, Уильма Лиден, Шанти Р...   \n",
       "15961  Дэйн Уайт О’Хара, Томас Кэйн-Бирн, Джудит Родд...   \n",
       "15962                 Мкртыч Арзуманян, Виктория Рунцова   \n",
       "\n",
       "                                             description  \\\n",
       "0      Мелодрама легендарного Педро Альмодовара «Пого...   \n",
       "1      Уморительная современная комедия на популярную...   \n",
       "2      Профессиональный рестлер Стив Остин («Все или ...   \n",
       "3      Шарлотта Рэмплинг, Том Кортни, Джеральдин Джей...   \n",
       "4      Расчетливая чаровница из советского кинохита «...   \n",
       "...                                                  ...   \n",
       "15958  Во время погони за браконьерами по лесу, сотру...   \n",
       "15959  Оригинальный киносериал от создателей «Бывших»...   \n",
       "15960  Криминальная драма по мотивам романов о шведск...   \n",
       "15961  Семнадцатилетний Дэмиен мечтает вырваться за п...   \n",
       "15962  Добродушный Гоша не может выйти из дома, чтобы...   \n",
       "\n",
       "                                                keywords  \n",
       "0      Поговори, ней, 2002, Испания, друзья, любовь, ...  \n",
       "1      Голые, перцы, 2014, США, друзья, свадьбы, прео...  \n",
       "2      Тактическая, сила, 2011, Канада, бандиты, ганг...  \n",
       "3      45, лет, 2015, Великобритания, брак, жизнь, лю...  \n",
       "4      Все, решает, мгновение, 1978, СССР, сильные, ж...  \n",
       "...                                                  ...  \n",
       "15958  убийство, вирус, расследование преступления, н...  \n",
       "15959                              Надежда, 2020, Россия  \n",
       "15960                               Сговор, 2017, Россия  \n",
       "15961                        Среди, камней, 2019, Россия  \n",
       "15962                                 Гоша, 2019, Россия  \n",
       "\n",
       "[15963 rows x 14 columns]"
      ]
     },
     "execution_count": 5,
     "metadata": {},
     "output_type": "execute_result"
    }
   ],
   "source": [
    "items"
   ]
  },
  {
   "cell_type": "code",
   "execution_count": 6,
   "id": "f966be3c",
   "metadata": {
    "ExecuteTime": {
     "end_time": "2022-12-13T15:57:54.559797Z",
     "start_time": "2022-12-13T15:57:54.548529Z"
    }
   },
   "outputs": [
    {
     "data": {
      "text/html": [
       "<div>\n",
       "<style scoped>\n",
       "    .dataframe tbody tr th:only-of-type {\n",
       "        vertical-align: middle;\n",
       "    }\n",
       "\n",
       "    .dataframe tbody tr th {\n",
       "        vertical-align: top;\n",
       "    }\n",
       "\n",
       "    .dataframe thead th {\n",
       "        text-align: right;\n",
       "    }\n",
       "</style>\n",
       "<table border=\"1\" class=\"dataframe\">\n",
       "  <thead>\n",
       "    <tr style=\"text-align: right;\">\n",
       "      <th></th>\n",
       "      <th>user_id</th>\n",
       "      <th>item_id</th>\n",
       "      <th>last_watch_dt</th>\n",
       "      <th>total_dur</th>\n",
       "      <th>watched_pct</th>\n",
       "    </tr>\n",
       "  </thead>\n",
       "  <tbody>\n",
       "    <tr>\n",
       "      <th>0</th>\n",
       "      <td>176549</td>\n",
       "      <td>9506</td>\n",
       "      <td>2021-05-11</td>\n",
       "      <td>4250</td>\n",
       "      <td>72.0</td>\n",
       "    </tr>\n",
       "    <tr>\n",
       "      <th>1</th>\n",
       "      <td>699317</td>\n",
       "      <td>1659</td>\n",
       "      <td>2021-05-29</td>\n",
       "      <td>8317</td>\n",
       "      <td>100.0</td>\n",
       "    </tr>\n",
       "    <tr>\n",
       "      <th>2</th>\n",
       "      <td>656683</td>\n",
       "      <td>7107</td>\n",
       "      <td>2021-05-09</td>\n",
       "      <td>10</td>\n",
       "      <td>0.0</td>\n",
       "    </tr>\n",
       "    <tr>\n",
       "      <th>3</th>\n",
       "      <td>864613</td>\n",
       "      <td>7638</td>\n",
       "      <td>2021-07-05</td>\n",
       "      <td>14483</td>\n",
       "      <td>100.0</td>\n",
       "    </tr>\n",
       "    <tr>\n",
       "      <th>4</th>\n",
       "      <td>964868</td>\n",
       "      <td>9506</td>\n",
       "      <td>2021-04-30</td>\n",
       "      <td>6725</td>\n",
       "      <td>100.0</td>\n",
       "    </tr>\n",
       "    <tr>\n",
       "      <th>...</th>\n",
       "      <td>...</td>\n",
       "      <td>...</td>\n",
       "      <td>...</td>\n",
       "      <td>...</td>\n",
       "      <td>...</td>\n",
       "    </tr>\n",
       "    <tr>\n",
       "      <th>5476246</th>\n",
       "      <td>648596</td>\n",
       "      <td>12225</td>\n",
       "      <td>2021-08-13</td>\n",
       "      <td>76</td>\n",
       "      <td>0.0</td>\n",
       "    </tr>\n",
       "    <tr>\n",
       "      <th>5476247</th>\n",
       "      <td>546862</td>\n",
       "      <td>9673</td>\n",
       "      <td>2021-04-13</td>\n",
       "      <td>2308</td>\n",
       "      <td>49.0</td>\n",
       "    </tr>\n",
       "    <tr>\n",
       "      <th>5476248</th>\n",
       "      <td>697262</td>\n",
       "      <td>15297</td>\n",
       "      <td>2021-08-20</td>\n",
       "      <td>18307</td>\n",
       "      <td>63.0</td>\n",
       "    </tr>\n",
       "    <tr>\n",
       "      <th>5476249</th>\n",
       "      <td>384202</td>\n",
       "      <td>16197</td>\n",
       "      <td>2021-04-19</td>\n",
       "      <td>6203</td>\n",
       "      <td>100.0</td>\n",
       "    </tr>\n",
       "    <tr>\n",
       "      <th>5476250</th>\n",
       "      <td>319709</td>\n",
       "      <td>4436</td>\n",
       "      <td>2021-08-15</td>\n",
       "      <td>3921</td>\n",
       "      <td>45.0</td>\n",
       "    </tr>\n",
       "  </tbody>\n",
       "</table>\n",
       "<p>5476251 rows × 5 columns</p>\n",
       "</div>"
      ],
      "text/plain": [
       "         user_id  item_id last_watch_dt  total_dur  watched_pct\n",
       "0         176549     9506    2021-05-11       4250         72.0\n",
       "1         699317     1659    2021-05-29       8317        100.0\n",
       "2         656683     7107    2021-05-09         10          0.0\n",
       "3         864613     7638    2021-07-05      14483        100.0\n",
       "4         964868     9506    2021-04-30       6725        100.0\n",
       "...          ...      ...           ...        ...          ...\n",
       "5476246   648596    12225    2021-08-13         76          0.0\n",
       "5476247   546862     9673    2021-04-13       2308         49.0\n",
       "5476248   697262    15297    2021-08-20      18307         63.0\n",
       "5476249   384202    16197    2021-04-19       6203        100.0\n",
       "5476250   319709     4436    2021-08-15       3921         45.0\n",
       "\n",
       "[5476251 rows x 5 columns]"
      ]
     },
     "execution_count": 6,
     "metadata": {},
     "output_type": "execute_result"
    }
   ],
   "source": [
    "interactions"
   ]
  },
  {
   "cell_type": "markdown",
   "id": "33d6ef25",
   "metadata": {},
   "source": [
    "## Подготовка данных"
   ]
  },
  {
   "cell_type": "code",
   "execution_count": 7,
   "id": "4c0b826c",
   "metadata": {
    "ExecuteTime": {
     "end_time": "2022-12-13T15:57:57.391417Z",
     "start_time": "2022-12-13T15:57:54.561372Z"
    }
   },
   "outputs": [],
   "source": [
    "Columns.Datetime = 'last_watch_dt'\n",
    "interactions.drop(interactions[interactions[Columns.Datetime].str.len() != 10].index, inplace=True)\n",
    "interactions[Columns.Datetime] = pd.to_datetime(interactions[Columns.Datetime], format='%Y-%m-%d')"
   ]
  },
  {
   "cell_type": "code",
   "execution_count": 8,
   "id": "3ac7280c",
   "metadata": {
    "ExecuteTime": {
     "end_time": "2022-12-13T15:57:57.417738Z",
     "start_time": "2022-12-13T15:57:57.395918Z"
    }
   },
   "outputs": [],
   "source": [
    "max_date = interactions[Columns.Datetime].max()"
   ]
  },
  {
   "cell_type": "code",
   "execution_count": 9,
   "id": "1b201278",
   "metadata": {
    "ExecuteTime": {
     "end_time": "2022-12-13T15:57:57.497764Z",
     "start_time": "2022-12-13T15:57:57.419866Z"
    }
   },
   "outputs": [],
   "source": [
    "interactions[Columns.Weight] = np.where(interactions['watched_pct'] > 10, 3, 1)"
   ]
  },
  {
   "cell_type": "code",
   "execution_count": 10,
   "id": "501135e3",
   "metadata": {
    "ExecuteTime": {
     "end_time": "2022-12-13T15:57:58.470587Z",
     "start_time": "2022-12-13T15:57:57.501132Z"
    }
   },
   "outputs": [
    {
     "name": "stdout",
     "output_type": "stream",
     "text": [
      "train: (4985269, 6)\n",
      "test: (490982, 6)\n"
     ]
    }
   ],
   "source": [
    "train = interactions[interactions[Columns.Datetime] < max_date - pd.Timedelta(days=7)].copy()\n",
    "test = interactions[interactions[Columns.Datetime] >= max_date - pd.Timedelta(days=7)].copy()\n",
    "\n",
    "print(f\"train: {train.shape}\")\n",
    "print(f\"test: {test.shape}\")"
   ]
  },
  {
   "cell_type": "code",
   "execution_count": 11,
   "id": "27b6a41f",
   "metadata": {
    "ExecuteTime": {
     "end_time": "2022-12-13T15:57:59.093503Z",
     "start_time": "2022-12-13T15:57:58.472655Z"
    }
   },
   "outputs": [],
   "source": [
    "train.drop(train.query(\"total_dur < 300\").index, inplace=True)"
   ]
  },
  {
   "cell_type": "code",
   "execution_count": 12,
   "id": "cd37a861",
   "metadata": {
    "ExecuteTime": {
     "end_time": "2022-12-13T15:58:00.028623Z",
     "start_time": "2022-12-13T15:57:59.095070Z"
    }
   },
   "outputs": [],
   "source": [
    "# отфильтруем холодных пользователей из теста\n",
    "cold_users = set(test[Columns.User]) - set(train[Columns.User])"
   ]
  },
  {
   "cell_type": "code",
   "execution_count": 13,
   "id": "4420ef5d",
   "metadata": {
    "ExecuteTime": {
     "end_time": "2022-12-13T15:58:00.111690Z",
     "start_time": "2022-12-13T15:58:00.030507Z"
    }
   },
   "outputs": [],
   "source": [
    "test.drop(test[test[Columns.User].isin(cold_users)].index, inplace=True)"
   ]
  },
  {
   "cell_type": "markdown",
   "id": "228c3ac8",
   "metadata": {
    "ExecuteTime": {
     "end_time": "2022-11-28T14:39:06.759058Z",
     "start_time": "2022-11-28T14:39:06.751602Z"
    }
   },
   "source": [
    "## Подготовка фичей"
   ]
  },
  {
   "cell_type": "markdown",
   "id": "164087a6",
   "metadata": {
    "ExecuteTime": {
     "end_time": "2022-11-28T14:39:23.179218Z",
     "start_time": "2022-11-28T14:39:23.165408Z"
    }
   },
   "source": [
    "### Пользовательские фичи"
   ]
  },
  {
   "cell_type": "code",
   "execution_count": 14,
   "id": "f9f13d41",
   "metadata": {
    "ExecuteTime": {
     "end_time": "2022-12-13T15:58:00.368743Z",
     "start_time": "2022-12-13T15:58:00.113109Z"
    }
   },
   "outputs": [
    {
     "data": {
      "text/plain": [
       "user_id     0.000000\n",
       "age         0.016776\n",
       "income      0.017586\n",
       "sex         0.016462\n",
       "kids_flg    0.000000\n",
       "dtype: float64"
      ]
     },
     "execution_count": 14,
     "metadata": {},
     "output_type": "execute_result"
    }
   ],
   "source": [
    "# Сколько в % незаполненных полей у Пользователя\n",
    "users.isnull().sum()/len(users)"
   ]
  },
  {
   "cell_type": "code",
   "execution_count": 15,
   "id": "d3ce6c82",
   "metadata": {
    "ExecuteTime": {
     "end_time": "2022-12-13T15:58:00.625938Z",
     "start_time": "2022-12-13T15:58:00.370355Z"
    }
   },
   "outputs": [],
   "source": [
    "# % не большой => можно заменить пустые значения\n",
    "users.fillna('Unknown', inplace=True)"
   ]
  },
  {
   "cell_type": "code",
   "execution_count": 16,
   "id": "a150606d",
   "metadata": {
    "ExecuteTime": {
     "end_time": "2022-12-13T15:58:00.799181Z",
     "start_time": "2022-12-13T15:58:00.627607Z"
    }
   },
   "outputs": [],
   "source": [
    "# оставляем у df users только тех, кто попал в train\n",
    "users = users.loc[users[Columns.User].isin(train[Columns.User])].copy()"
   ]
  },
  {
   "cell_type": "code",
   "execution_count": 17,
   "id": "9eb4719c",
   "metadata": {
    "ExecuteTime": {
     "end_time": "2022-12-13T15:58:00.809762Z",
     "start_time": "2022-12-13T15:58:00.800539Z"
    }
   },
   "outputs": [
    {
     "data": {
      "text/html": [
       "<div>\n",
       "<style scoped>\n",
       "    .dataframe tbody tr th:only-of-type {\n",
       "        vertical-align: middle;\n",
       "    }\n",
       "\n",
       "    .dataframe tbody tr th {\n",
       "        vertical-align: top;\n",
       "    }\n",
       "\n",
       "    .dataframe thead th {\n",
       "        text-align: right;\n",
       "    }\n",
       "</style>\n",
       "<table border=\"1\" class=\"dataframe\">\n",
       "  <thead>\n",
       "    <tr style=\"text-align: right;\">\n",
       "      <th></th>\n",
       "      <th>user_id</th>\n",
       "      <th>age</th>\n",
       "      <th>income</th>\n",
       "      <th>sex</th>\n",
       "      <th>kids_flg</th>\n",
       "    </tr>\n",
       "  </thead>\n",
       "  <tbody>\n",
       "    <tr>\n",
       "      <th>0</th>\n",
       "      <td>973171</td>\n",
       "      <td>age_25_34</td>\n",
       "      <td>income_60_90</td>\n",
       "      <td>М</td>\n",
       "      <td>1</td>\n",
       "    </tr>\n",
       "    <tr>\n",
       "      <th>1</th>\n",
       "      <td>962099</td>\n",
       "      <td>age_18_24</td>\n",
       "      <td>income_20_40</td>\n",
       "      <td>М</td>\n",
       "      <td>0</td>\n",
       "    </tr>\n",
       "    <tr>\n",
       "      <th>3</th>\n",
       "      <td>721985</td>\n",
       "      <td>age_45_54</td>\n",
       "      <td>income_20_40</td>\n",
       "      <td>Ж</td>\n",
       "      <td>0</td>\n",
       "    </tr>\n",
       "    <tr>\n",
       "      <th>4</th>\n",
       "      <td>704055</td>\n",
       "      <td>age_35_44</td>\n",
       "      <td>income_60_90</td>\n",
       "      <td>Ж</td>\n",
       "      <td>0</td>\n",
       "    </tr>\n",
       "    <tr>\n",
       "      <th>5</th>\n",
       "      <td>1037719</td>\n",
       "      <td>age_45_54</td>\n",
       "      <td>income_60_90</td>\n",
       "      <td>М</td>\n",
       "      <td>0</td>\n",
       "    </tr>\n",
       "    <tr>\n",
       "      <th>...</th>\n",
       "      <td>...</td>\n",
       "      <td>...</td>\n",
       "      <td>...</td>\n",
       "      <td>...</td>\n",
       "      <td>...</td>\n",
       "    </tr>\n",
       "    <tr>\n",
       "      <th>840184</th>\n",
       "      <td>529394</td>\n",
       "      <td>age_25_34</td>\n",
       "      <td>income_40_60</td>\n",
       "      <td>Ж</td>\n",
       "      <td>0</td>\n",
       "    </tr>\n",
       "    <tr>\n",
       "      <th>840186</th>\n",
       "      <td>80113</td>\n",
       "      <td>age_25_34</td>\n",
       "      <td>income_40_60</td>\n",
       "      <td>Ж</td>\n",
       "      <td>0</td>\n",
       "    </tr>\n",
       "    <tr>\n",
       "      <th>840188</th>\n",
       "      <td>312839</td>\n",
       "      <td>age_65_inf</td>\n",
       "      <td>income_60_90</td>\n",
       "      <td>Ж</td>\n",
       "      <td>0</td>\n",
       "    </tr>\n",
       "    <tr>\n",
       "      <th>840189</th>\n",
       "      <td>191349</td>\n",
       "      <td>age_45_54</td>\n",
       "      <td>income_40_60</td>\n",
       "      <td>М</td>\n",
       "      <td>1</td>\n",
       "    </tr>\n",
       "    <tr>\n",
       "      <th>840190</th>\n",
       "      <td>393868</td>\n",
       "      <td>age_25_34</td>\n",
       "      <td>income_20_40</td>\n",
       "      <td>М</td>\n",
       "      <td>0</td>\n",
       "    </tr>\n",
       "  </tbody>\n",
       "</table>\n",
       "<p>586668 rows × 5 columns</p>\n",
       "</div>"
      ],
      "text/plain": [
       "        user_id         age        income sex  kids_flg\n",
       "0        973171   age_25_34  income_60_90   М         1\n",
       "1        962099   age_18_24  income_20_40   М         0\n",
       "3        721985   age_45_54  income_20_40   Ж         0\n",
       "4        704055   age_35_44  income_60_90   Ж         0\n",
       "5       1037719   age_45_54  income_60_90   М         0\n",
       "...         ...         ...           ...  ..       ...\n",
       "840184   529394   age_25_34  income_40_60   Ж         0\n",
       "840186    80113   age_25_34  income_40_60   Ж         0\n",
       "840188   312839  age_65_inf  income_60_90   Ж         0\n",
       "840189   191349   age_45_54  income_40_60   М         1\n",
       "840190   393868   age_25_34  income_20_40   М         0\n",
       "\n",
       "[586668 rows x 5 columns]"
      ]
     },
     "execution_count": 17,
     "metadata": {},
     "output_type": "execute_result"
    }
   ],
   "source": [
    "users"
   ]
  },
  {
   "cell_type": "code",
   "execution_count": 18,
   "id": "c3d531f6",
   "metadata": {
    "ExecuteTime": {
     "end_time": "2022-12-13T15:58:00.877074Z",
     "start_time": "2022-12-13T15:58:00.811584Z"
    }
   },
   "outputs": [
    {
     "data": {
      "text/html": [
       "<div>\n",
       "<style scoped>\n",
       "    .dataframe tbody tr th:only-of-type {\n",
       "        vertical-align: middle;\n",
       "    }\n",
       "\n",
       "    .dataframe tbody tr th {\n",
       "        vertical-align: top;\n",
       "    }\n",
       "\n",
       "    .dataframe thead th {\n",
       "        text-align: right;\n",
       "    }\n",
       "</style>\n",
       "<table border=\"1\" class=\"dataframe\">\n",
       "  <thead>\n",
       "    <tr style=\"text-align: right;\">\n",
       "      <th></th>\n",
       "      <th>id</th>\n",
       "      <th>value</th>\n",
       "      <th>feature</th>\n",
       "    </tr>\n",
       "  </thead>\n",
       "  <tbody>\n",
       "    <tr>\n",
       "      <th>0</th>\n",
       "      <td>973171</td>\n",
       "      <td>М</td>\n",
       "      <td>sex</td>\n",
       "    </tr>\n",
       "    <tr>\n",
       "      <th>1</th>\n",
       "      <td>962099</td>\n",
       "      <td>М</td>\n",
       "      <td>sex</td>\n",
       "    </tr>\n",
       "    <tr>\n",
       "      <th>3</th>\n",
       "      <td>721985</td>\n",
       "      <td>Ж</td>\n",
       "      <td>sex</td>\n",
       "    </tr>\n",
       "    <tr>\n",
       "      <th>4</th>\n",
       "      <td>704055</td>\n",
       "      <td>Ж</td>\n",
       "      <td>sex</td>\n",
       "    </tr>\n",
       "    <tr>\n",
       "      <th>5</th>\n",
       "      <td>1037719</td>\n",
       "      <td>М</td>\n",
       "      <td>sex</td>\n",
       "    </tr>\n",
       "  </tbody>\n",
       "</table>\n",
       "</div>"
      ],
      "text/plain": [
       "        id value feature\n",
       "0   973171     М     sex\n",
       "1   962099     М     sex\n",
       "3   721985     Ж     sex\n",
       "4   704055     Ж     sex\n",
       "5  1037719     М     sex"
      ]
     },
     "execution_count": 18,
     "metadata": {},
     "output_type": "execute_result"
    }
   ],
   "source": [
    "user_features_frames = []\n",
    "for feature in [\"sex\", \"age\", \"income\"]:\n",
    "    feature_frame = users.reindex(columns=[Columns.User, feature])\n",
    "    feature_frame.columns = [\"id\", \"value\"]\n",
    "    feature_frame[\"feature\"] = feature\n",
    "    user_features_frames.append(feature_frame)\n",
    "user_features = pd.concat(user_features_frames)\n",
    "user_features.head()"
   ]
  },
  {
   "cell_type": "markdown",
   "id": "b8537e6c",
   "metadata": {},
   "source": [
    "### Фичи фильмов"
   ]
  },
  {
   "cell_type": "code",
   "execution_count": 19,
   "id": "5ec38314",
   "metadata": {
    "ExecuteTime": {
     "end_time": "2022-12-13T15:58:00.904906Z",
     "start_time": "2022-12-13T15:58:00.879088Z"
    }
   },
   "outputs": [
    {
     "data": {
      "text/plain": [
       "item_id         0.000000\n",
       "content_type    0.000000\n",
       "title           0.000000\n",
       "title_orig      0.297250\n",
       "release_year    0.006139\n",
       "genres          0.000000\n",
       "countries       0.002318\n",
       "for_kids        0.964543\n",
       "age_rating      0.000125\n",
       "studios         0.933283\n",
       "directors       0.094531\n",
       "actors          0.164067\n",
       "description     0.000125\n",
       "keywords        0.026499\n",
       "dtype: float64"
      ]
     },
     "execution_count": 19,
     "metadata": {},
     "output_type": "execute_result"
    }
   ],
   "source": [
    "# Сколько в % незаполненных полей у Item\n",
    "items.isnull().sum()/len(items)"
   ]
  },
  {
   "cell_type": "code",
   "execution_count": 20,
   "id": "3ced8776",
   "metadata": {
    "ExecuteTime": {
     "end_time": "2022-12-13T15:58:00.946473Z",
     "start_time": "2022-12-13T15:58:00.907274Z"
    }
   },
   "outputs": [],
   "source": [
    "# оставляем у df users только тех, кто попал в train\n",
    "items = items.loc[items[Columns.Item].isin(train[Columns.Item])].copy()"
   ]
  },
  {
   "cell_type": "markdown",
   "id": "bbf35234",
   "metadata": {},
   "source": [
    "### Жанр"
   ]
  },
  {
   "cell_type": "code",
   "execution_count": 21,
   "id": "edbd17bc",
   "metadata": {
    "ExecuteTime": {
     "end_time": "2022-12-13T15:58:01.055699Z",
     "start_time": "2022-12-13T15:58:00.947944Z"
    }
   },
   "outputs": [
    {
     "data": {
      "text/html": [
       "<div>\n",
       "<style scoped>\n",
       "    .dataframe tbody tr th:only-of-type {\n",
       "        vertical-align: middle;\n",
       "    }\n",
       "\n",
       "    .dataframe tbody tr th {\n",
       "        vertical-align: top;\n",
       "    }\n",
       "\n",
       "    .dataframe thead th {\n",
       "        text-align: right;\n",
       "    }\n",
       "</style>\n",
       "<table border=\"1\" class=\"dataframe\">\n",
       "  <thead>\n",
       "    <tr style=\"text-align: right;\">\n",
       "      <th></th>\n",
       "      <th>id</th>\n",
       "      <th>value</th>\n",
       "      <th>feature</th>\n",
       "    </tr>\n",
       "  </thead>\n",
       "  <tbody>\n",
       "    <tr>\n",
       "      <th>0</th>\n",
       "      <td>10711</td>\n",
       "      <td>драмы</td>\n",
       "      <td>genre</td>\n",
       "    </tr>\n",
       "    <tr>\n",
       "      <th>0</th>\n",
       "      <td>10711</td>\n",
       "      <td>зарубежные</td>\n",
       "      <td>genre</td>\n",
       "    </tr>\n",
       "    <tr>\n",
       "      <th>0</th>\n",
       "      <td>10711</td>\n",
       "      <td>детективы</td>\n",
       "      <td>genre</td>\n",
       "    </tr>\n",
       "    <tr>\n",
       "      <th>0</th>\n",
       "      <td>10711</td>\n",
       "      <td>мелодрамы</td>\n",
       "      <td>genre</td>\n",
       "    </tr>\n",
       "    <tr>\n",
       "      <th>1</th>\n",
       "      <td>2508</td>\n",
       "      <td>зарубежные</td>\n",
       "      <td>genre</td>\n",
       "    </tr>\n",
       "  </tbody>\n",
       "</table>\n",
       "</div>"
      ],
      "text/plain": [
       "      id       value feature\n",
       "0  10711       драмы   genre\n",
       "0  10711  зарубежные   genre\n",
       "0  10711   детективы   genre\n",
       "0  10711   мелодрамы   genre\n",
       "1   2508  зарубежные   genre"
      ]
     },
     "execution_count": 21,
     "metadata": {},
     "output_type": "execute_result"
    }
   ],
   "source": [
    "items[\"genre\"] = items[\"genres\"].str.lower().str.replace(\", \", \",\", regex=False).str.split(\",\")\n",
    "genre_feature = items[[\"item_id\", \"genre\"]].explode(\"genre\")\n",
    "genre_feature.columns = [\"id\", \"value\"]\n",
    "genre_feature[\"feature\"] = \"genre\"\n",
    "genre_feature.head()"
   ]
  },
  {
   "cell_type": "markdown",
   "id": "47bf076f",
   "metadata": {
    "ExecuteTime": {
     "end_time": "2022-11-28T14:42:28.825537Z",
     "start_time": "2022-11-28T14:42:28.818854Z"
    }
   },
   "source": [
    "### Содержание"
   ]
  },
  {
   "cell_type": "code",
   "execution_count": 22,
   "id": "5f9e3443",
   "metadata": {
    "ExecuteTime": {
     "end_time": "2022-12-13T15:58:01.065117Z",
     "start_time": "2022-12-13T15:58:01.057174Z"
    }
   },
   "outputs": [
    {
     "data": {
      "text/html": [
       "<div>\n",
       "<style scoped>\n",
       "    .dataframe tbody tr th:only-of-type {\n",
       "        vertical-align: middle;\n",
       "    }\n",
       "\n",
       "    .dataframe tbody tr th {\n",
       "        vertical-align: top;\n",
       "    }\n",
       "\n",
       "    .dataframe thead th {\n",
       "        text-align: right;\n",
       "    }\n",
       "</style>\n",
       "<table border=\"1\" class=\"dataframe\">\n",
       "  <thead>\n",
       "    <tr style=\"text-align: right;\">\n",
       "      <th></th>\n",
       "      <th>id</th>\n",
       "      <th>value</th>\n",
       "      <th>feature</th>\n",
       "    </tr>\n",
       "  </thead>\n",
       "  <tbody>\n",
       "    <tr>\n",
       "      <th>0</th>\n",
       "      <td>10711</td>\n",
       "      <td>film</td>\n",
       "      <td>content_type</td>\n",
       "    </tr>\n",
       "    <tr>\n",
       "      <th>1</th>\n",
       "      <td>2508</td>\n",
       "      <td>film</td>\n",
       "      <td>content_type</td>\n",
       "    </tr>\n",
       "    <tr>\n",
       "      <th>2</th>\n",
       "      <td>10716</td>\n",
       "      <td>film</td>\n",
       "      <td>content_type</td>\n",
       "    </tr>\n",
       "    <tr>\n",
       "      <th>3</th>\n",
       "      <td>7868</td>\n",
       "      <td>film</td>\n",
       "      <td>content_type</td>\n",
       "    </tr>\n",
       "    <tr>\n",
       "      <th>4</th>\n",
       "      <td>16268</td>\n",
       "      <td>film</td>\n",
       "      <td>content_type</td>\n",
       "    </tr>\n",
       "  </tbody>\n",
       "</table>\n",
       "</div>"
      ],
      "text/plain": [
       "      id value       feature\n",
       "0  10711  film  content_type\n",
       "1   2508  film  content_type\n",
       "2  10716  film  content_type\n",
       "3   7868  film  content_type\n",
       "4  16268  film  content_type"
      ]
     },
     "execution_count": 22,
     "metadata": {},
     "output_type": "execute_result"
    }
   ],
   "source": [
    "content_feature = items.reindex(columns=[Columns.Item, \"content_type\"])\n",
    "content_feature.columns = [\"id\", \"value\"]\n",
    "content_feature[\"feature\"] = \"content_type\"\n",
    "content_feature.head()"
   ]
  },
  {
   "cell_type": "markdown",
   "id": "413ce938",
   "metadata": {},
   "source": [
    "### Режисер"
   ]
  },
  {
   "cell_type": "code",
   "execution_count": 23,
   "id": "c501d014",
   "metadata": {
    "ExecuteTime": {
     "end_time": "2022-12-13T15:58:01.103002Z",
     "start_time": "2022-12-13T15:58:01.066951Z"
    }
   },
   "outputs": [
    {
     "data": {
      "text/html": [
       "<div>\n",
       "<style scoped>\n",
       "    .dataframe tbody tr th:only-of-type {\n",
       "        vertical-align: middle;\n",
       "    }\n",
       "\n",
       "    .dataframe tbody tr th {\n",
       "        vertical-align: top;\n",
       "    }\n",
       "\n",
       "    .dataframe thead th {\n",
       "        text-align: right;\n",
       "    }\n",
       "</style>\n",
       "<table border=\"1\" class=\"dataframe\">\n",
       "  <thead>\n",
       "    <tr style=\"text-align: right;\">\n",
       "      <th></th>\n",
       "      <th>id</th>\n",
       "      <th>value</th>\n",
       "      <th>feature</th>\n",
       "    </tr>\n",
       "  </thead>\n",
       "  <tbody>\n",
       "    <tr>\n",
       "      <th>0</th>\n",
       "      <td>10711</td>\n",
       "      <td>педро альмодовар</td>\n",
       "      <td>director</td>\n",
       "    </tr>\n",
       "    <tr>\n",
       "      <th>1</th>\n",
       "      <td>2508</td>\n",
       "      <td>скот армстронг</td>\n",
       "      <td>director</td>\n",
       "    </tr>\n",
       "    <tr>\n",
       "      <th>2</th>\n",
       "      <td>10716</td>\n",
       "      <td>адам п. калтраро</td>\n",
       "      <td>director</td>\n",
       "    </tr>\n",
       "    <tr>\n",
       "      <th>3</th>\n",
       "      <td>7868</td>\n",
       "      <td>эндрю хэй</td>\n",
       "      <td>director</td>\n",
       "    </tr>\n",
       "    <tr>\n",
       "      <th>4</th>\n",
       "      <td>16268</td>\n",
       "      <td>виктор садовский</td>\n",
       "      <td>director</td>\n",
       "    </tr>\n",
       "  </tbody>\n",
       "</table>\n",
       "</div>"
      ],
      "text/plain": [
       "      id             value   feature\n",
       "0  10711  педро альмодовар  director\n",
       "1   2508    скот армстронг  director\n",
       "2  10716  адам п. калтраро  director\n",
       "3   7868         эндрю хэй  director\n",
       "4  16268  виктор садовский  director"
      ]
     },
     "execution_count": 23,
     "metadata": {},
     "output_type": "execute_result"
    }
   ],
   "source": [
    "items[\"director\"] = items[\"directors\"].str.lower().str.replace(\", \", \",\", regex=False).str.split(\",\")\n",
    "director_feature = items[[\"item_id\", \"director\"]].explode(\"director\")\n",
    "director_feature.columns = [\"id\", \"value\"]\n",
    "director_feature[\"feature\"] = \"director\"\n",
    "director_feature.head()"
   ]
  },
  {
   "cell_type": "markdown",
   "id": "43847ece",
   "metadata": {},
   "source": [
    "### Страна"
   ]
  },
  {
   "cell_type": "code",
   "execution_count": 24,
   "id": "bfe0784b",
   "metadata": {
    "ExecuteTime": {
     "end_time": "2022-12-13T15:58:01.140072Z",
     "start_time": "2022-12-13T15:58:01.105620Z"
    }
   },
   "outputs": [
    {
     "data": {
      "text/html": [
       "<div>\n",
       "<style scoped>\n",
       "    .dataframe tbody tr th:only-of-type {\n",
       "        vertical-align: middle;\n",
       "    }\n",
       "\n",
       "    .dataframe tbody tr th {\n",
       "        vertical-align: top;\n",
       "    }\n",
       "\n",
       "    .dataframe thead th {\n",
       "        text-align: right;\n",
       "    }\n",
       "</style>\n",
       "<table border=\"1\" class=\"dataframe\">\n",
       "  <thead>\n",
       "    <tr style=\"text-align: right;\">\n",
       "      <th></th>\n",
       "      <th>id</th>\n",
       "      <th>value</th>\n",
       "      <th>feature</th>\n",
       "    </tr>\n",
       "  </thead>\n",
       "  <tbody>\n",
       "    <tr>\n",
       "      <th>0</th>\n",
       "      <td>10711</td>\n",
       "      <td>испания</td>\n",
       "      <td>country</td>\n",
       "    </tr>\n",
       "    <tr>\n",
       "      <th>1</th>\n",
       "      <td>2508</td>\n",
       "      <td>сша</td>\n",
       "      <td>country</td>\n",
       "    </tr>\n",
       "    <tr>\n",
       "      <th>2</th>\n",
       "      <td>10716</td>\n",
       "      <td>канада</td>\n",
       "      <td>country</td>\n",
       "    </tr>\n",
       "    <tr>\n",
       "      <th>3</th>\n",
       "      <td>7868</td>\n",
       "      <td>великобритания</td>\n",
       "      <td>country</td>\n",
       "    </tr>\n",
       "    <tr>\n",
       "      <th>4</th>\n",
       "      <td>16268</td>\n",
       "      <td>ссср</td>\n",
       "      <td>country</td>\n",
       "    </tr>\n",
       "  </tbody>\n",
       "</table>\n",
       "</div>"
      ],
      "text/plain": [
       "      id           value  feature\n",
       "0  10711         испания  country\n",
       "1   2508             сша  country\n",
       "2  10716          канада  country\n",
       "3   7868  великобритания  country\n",
       "4  16268            ссср  country"
      ]
     },
     "execution_count": 24,
     "metadata": {},
     "output_type": "execute_result"
    }
   ],
   "source": [
    "items[\"country\"] = items[\"countries\"].str.lower().str.replace(\", \", \",\", regex=False).str.split(\",\")\n",
    "country_feature = items[[\"item_id\", \"country\"]].explode(\"country\")\n",
    "country_feature.columns = [\"id\", \"value\"]\n",
    "country_feature[\"feature\"] = \"country\"\n",
    "country_feature.head()"
   ]
  },
  {
   "cell_type": "markdown",
   "id": "459d17af",
   "metadata": {},
   "source": [
    "### Год Выпуска"
   ]
  },
  {
   "cell_type": "code",
   "execution_count": 25,
   "id": "40e98f6d",
   "metadata": {
    "ExecuteTime": {
     "end_time": "2022-12-13T15:58:01.151629Z",
     "start_time": "2022-12-13T15:58:01.142246Z"
    }
   },
   "outputs": [
    {
     "data": {
      "text/html": [
       "<div>\n",
       "<style scoped>\n",
       "    .dataframe tbody tr th:only-of-type {\n",
       "        vertical-align: middle;\n",
       "    }\n",
       "\n",
       "    .dataframe tbody tr th {\n",
       "        vertical-align: top;\n",
       "    }\n",
       "\n",
       "    .dataframe thead th {\n",
       "        text-align: right;\n",
       "    }\n",
       "</style>\n",
       "<table border=\"1\" class=\"dataframe\">\n",
       "  <thead>\n",
       "    <tr style=\"text-align: right;\">\n",
       "      <th></th>\n",
       "      <th>id</th>\n",
       "      <th>value</th>\n",
       "      <th>feature</th>\n",
       "    </tr>\n",
       "  </thead>\n",
       "  <tbody>\n",
       "    <tr>\n",
       "      <th>0</th>\n",
       "      <td>10711</td>\n",
       "      <td>2002.0</td>\n",
       "      <td>release_year</td>\n",
       "    </tr>\n",
       "    <tr>\n",
       "      <th>1</th>\n",
       "      <td>2508</td>\n",
       "      <td>2014.0</td>\n",
       "      <td>release_year</td>\n",
       "    </tr>\n",
       "    <tr>\n",
       "      <th>2</th>\n",
       "      <td>10716</td>\n",
       "      <td>2011.0</td>\n",
       "      <td>release_year</td>\n",
       "    </tr>\n",
       "    <tr>\n",
       "      <th>3</th>\n",
       "      <td>7868</td>\n",
       "      <td>2015.0</td>\n",
       "      <td>release_year</td>\n",
       "    </tr>\n",
       "    <tr>\n",
       "      <th>4</th>\n",
       "      <td>16268</td>\n",
       "      <td>1978.0</td>\n",
       "      <td>release_year</td>\n",
       "    </tr>\n",
       "  </tbody>\n",
       "</table>\n",
       "</div>"
      ],
      "text/plain": [
       "      id   value       feature\n",
       "0  10711  2002.0  release_year\n",
       "1   2508  2014.0  release_year\n",
       "2  10716  2011.0  release_year\n",
       "3   7868  2015.0  release_year\n",
       "4  16268  1978.0  release_year"
      ]
     },
     "execution_count": 25,
     "metadata": {},
     "output_type": "execute_result"
    }
   ],
   "source": [
    "year_feature = items.reindex(columns=[Columns.Item, \"release_year\"])\n",
    "year_feature.columns = [\"id\", \"value\"]\n",
    "year_feature[\"feature\"] = \"release_year\"\n",
    "year_feature.head()"
   ]
  },
  {
   "cell_type": "code",
   "execution_count": 26,
   "id": "393ffccd",
   "metadata": {
    "ExecuteTime": {
     "end_time": "2022-12-13T15:58:01.177731Z",
     "start_time": "2022-12-13T15:58:01.153158Z"
    },
    "scrolled": true
   },
   "outputs": [
    {
     "data": {
      "text/html": [
       "<div>\n",
       "<style scoped>\n",
       "    .dataframe tbody tr th:only-of-type {\n",
       "        vertical-align: middle;\n",
       "    }\n",
       "\n",
       "    .dataframe tbody tr th {\n",
       "        vertical-align: top;\n",
       "    }\n",
       "\n",
       "    .dataframe thead th {\n",
       "        text-align: right;\n",
       "    }\n",
       "</style>\n",
       "<table border=\"1\" class=\"dataframe\">\n",
       "  <thead>\n",
       "    <tr style=\"text-align: right;\">\n",
       "      <th></th>\n",
       "      <th>item_id</th>\n",
       "      <th>content_type</th>\n",
       "      <th>title</th>\n",
       "      <th>title_orig</th>\n",
       "      <th>release_year</th>\n",
       "      <th>genres</th>\n",
       "      <th>countries</th>\n",
       "      <th>for_kids</th>\n",
       "      <th>age_rating</th>\n",
       "      <th>studios</th>\n",
       "      <th>directors</th>\n",
       "      <th>actors</th>\n",
       "      <th>description</th>\n",
       "      <th>keywords</th>\n",
       "      <th>genre</th>\n",
       "      <th>director</th>\n",
       "      <th>country</th>\n",
       "    </tr>\n",
       "  </thead>\n",
       "  <tbody>\n",
       "    <tr>\n",
       "      <th>0</th>\n",
       "      <td>10711</td>\n",
       "      <td>film</td>\n",
       "      <td>Поговори с ней</td>\n",
       "      <td>Hable con ella</td>\n",
       "      <td>2002.0</td>\n",
       "      <td>драмы, зарубежные, детективы, мелодрамы</td>\n",
       "      <td>Испания</td>\n",
       "      <td>NaN</td>\n",
       "      <td>16.0</td>\n",
       "      <td>NaN</td>\n",
       "      <td>Педро Альмодовар</td>\n",
       "      <td>Адольфо Фернандес, Ана Фернандес, Дарио Гранди...</td>\n",
       "      <td>Мелодрама легендарного Педро Альмодовара «Пого...</td>\n",
       "      <td>Поговори, ней, 2002, Испания, друзья, любовь, ...</td>\n",
       "      <td>[драмы, зарубежные, детективы, мелодрамы]</td>\n",
       "      <td>[педро альмодовар]</td>\n",
       "      <td>[испания]</td>\n",
       "    </tr>\n",
       "    <tr>\n",
       "      <th>1</th>\n",
       "      <td>2508</td>\n",
       "      <td>film</td>\n",
       "      <td>Голые перцы</td>\n",
       "      <td>Search Party</td>\n",
       "      <td>2014.0</td>\n",
       "      <td>зарубежные, приключения, комедии</td>\n",
       "      <td>США</td>\n",
       "      <td>NaN</td>\n",
       "      <td>16.0</td>\n",
       "      <td>NaN</td>\n",
       "      <td>Скот Армстронг</td>\n",
       "      <td>Адам Палли, Брайан Хаски, Дж.Б. Смув, Джейсон ...</td>\n",
       "      <td>Уморительная современная комедия на популярную...</td>\n",
       "      <td>Голые, перцы, 2014, США, друзья, свадьбы, прео...</td>\n",
       "      <td>[зарубежные, приключения, комедии]</td>\n",
       "      <td>[скот армстронг]</td>\n",
       "      <td>[сша]</td>\n",
       "    </tr>\n",
       "    <tr>\n",
       "      <th>2</th>\n",
       "      <td>10716</td>\n",
       "      <td>film</td>\n",
       "      <td>Тактическая сила</td>\n",
       "      <td>Tactical Force</td>\n",
       "      <td>2011.0</td>\n",
       "      <td>криминал, зарубежные, триллеры, боевики, комедии</td>\n",
       "      <td>Канада</td>\n",
       "      <td>NaN</td>\n",
       "      <td>16.0</td>\n",
       "      <td>NaN</td>\n",
       "      <td>Адам П. Калтраро</td>\n",
       "      <td>Адриан Холмс, Даррен Шалави, Джерри Вассерман,...</td>\n",
       "      <td>Профессиональный рестлер Стив Остин («Все или ...</td>\n",
       "      <td>Тактическая, сила, 2011, Канада, бандиты, ганг...</td>\n",
       "      <td>[криминал, зарубежные, триллеры, боевики, коме...</td>\n",
       "      <td>[адам п. калтраро]</td>\n",
       "      <td>[канада]</td>\n",
       "    </tr>\n",
       "    <tr>\n",
       "      <th>3</th>\n",
       "      <td>7868</td>\n",
       "      <td>film</td>\n",
       "      <td>45 лет</td>\n",
       "      <td>45 Years</td>\n",
       "      <td>2015.0</td>\n",
       "      <td>драмы, зарубежные, мелодрамы</td>\n",
       "      <td>Великобритания</td>\n",
       "      <td>NaN</td>\n",
       "      <td>16.0</td>\n",
       "      <td>NaN</td>\n",
       "      <td>Эндрю Хэй</td>\n",
       "      <td>Александра Риддлстон-Барретт, Джеральдин Джейм...</td>\n",
       "      <td>Шарлотта Рэмплинг, Том Кортни, Джеральдин Джей...</td>\n",
       "      <td>45, лет, 2015, Великобритания, брак, жизнь, лю...</td>\n",
       "      <td>[драмы, зарубежные, мелодрамы]</td>\n",
       "      <td>[эндрю хэй]</td>\n",
       "      <td>[великобритания]</td>\n",
       "    </tr>\n",
       "    <tr>\n",
       "      <th>4</th>\n",
       "      <td>16268</td>\n",
       "      <td>film</td>\n",
       "      <td>Все решает мгновение</td>\n",
       "      <td>NaN</td>\n",
       "      <td>1978.0</td>\n",
       "      <td>драмы, спорт, советские, мелодрамы</td>\n",
       "      <td>СССР</td>\n",
       "      <td>NaN</td>\n",
       "      <td>12.0</td>\n",
       "      <td>Ленфильм</td>\n",
       "      <td>Виктор Садовский</td>\n",
       "      <td>Александр Абдулов, Александр Демьяненко, Алекс...</td>\n",
       "      <td>Расчетливая чаровница из советского кинохита «...</td>\n",
       "      <td>Все, решает, мгновение, 1978, СССР, сильные, ж...</td>\n",
       "      <td>[драмы, спорт, советские, мелодрамы]</td>\n",
       "      <td>[виктор садовский]</td>\n",
       "      <td>[ссср]</td>\n",
       "    </tr>\n",
       "    <tr>\n",
       "      <th>...</th>\n",
       "      <td>...</td>\n",
       "      <td>...</td>\n",
       "      <td>...</td>\n",
       "      <td>...</td>\n",
       "      <td>...</td>\n",
       "      <td>...</td>\n",
       "      <td>...</td>\n",
       "      <td>...</td>\n",
       "      <td>...</td>\n",
       "      <td>...</td>\n",
       "      <td>...</td>\n",
       "      <td>...</td>\n",
       "      <td>...</td>\n",
       "      <td>...</td>\n",
       "      <td>...</td>\n",
       "      <td>...</td>\n",
       "      <td>...</td>\n",
       "    </tr>\n",
       "    <tr>\n",
       "      <th>15958</th>\n",
       "      <td>6443</td>\n",
       "      <td>series</td>\n",
       "      <td>Полярный круг</td>\n",
       "      <td>Arctic Circle</td>\n",
       "      <td>2018.0</td>\n",
       "      <td>драмы, триллеры, криминал</td>\n",
       "      <td>Финляндия, Германия</td>\n",
       "      <td>NaN</td>\n",
       "      <td>16.0</td>\n",
       "      <td>NaN</td>\n",
       "      <td>Ханну Салонен</td>\n",
       "      <td>Иина Куустонен, Максимилиан Брюкнер, Пихла Вии...</td>\n",
       "      <td>Во время погони за браконьерами по лесу, сотру...</td>\n",
       "      <td>убийство, вирус, расследование преступления, н...</td>\n",
       "      <td>[драмы, триллеры, криминал]</td>\n",
       "      <td>[ханну салонен]</td>\n",
       "      <td>[финляндия, германия]</td>\n",
       "    </tr>\n",
       "    <tr>\n",
       "      <th>15959</th>\n",
       "      <td>2367</td>\n",
       "      <td>series</td>\n",
       "      <td>Надежда</td>\n",
       "      <td>NaN</td>\n",
       "      <td>2020.0</td>\n",
       "      <td>драмы, боевики</td>\n",
       "      <td>Россия</td>\n",
       "      <td>0.0</td>\n",
       "      <td>18.0</td>\n",
       "      <td>NaN</td>\n",
       "      <td>Елена Хазанова</td>\n",
       "      <td>Виктория Исакова, Александр Кузьмин, Алексей М...</td>\n",
       "      <td>Оригинальный киносериал от создателей «Бывших»...</td>\n",
       "      <td>Надежда, 2020, Россия</td>\n",
       "      <td>[драмы, боевики]</td>\n",
       "      <td>[елена хазанова]</td>\n",
       "      <td>[россия]</td>\n",
       "    </tr>\n",
       "    <tr>\n",
       "      <th>15960</th>\n",
       "      <td>10632</td>\n",
       "      <td>series</td>\n",
       "      <td>Сговор</td>\n",
       "      <td>Hassel</td>\n",
       "      <td>2017.0</td>\n",
       "      <td>драмы, триллеры, криминал</td>\n",
       "      <td>Россия</td>\n",
       "      <td>0.0</td>\n",
       "      <td>18.0</td>\n",
       "      <td>NaN</td>\n",
       "      <td>Эшреф Рейбрук, Амир Камдин, Эрик Эгер</td>\n",
       "      <td>Ола Рапас, Алиетт Офейм, Уильма Лиден, Шанти Р...</td>\n",
       "      <td>Криминальная драма по мотивам романов о шведск...</td>\n",
       "      <td>Сговор, 2017, Россия</td>\n",
       "      <td>[драмы, триллеры, криминал]</td>\n",
       "      <td>[эшреф рейбрук, амир камдин, эрик эгер]</td>\n",
       "      <td>[россия]</td>\n",
       "    </tr>\n",
       "    <tr>\n",
       "      <th>15961</th>\n",
       "      <td>4538</td>\n",
       "      <td>series</td>\n",
       "      <td>Среди камней</td>\n",
       "      <td>Darklands</td>\n",
       "      <td>2019.0</td>\n",
       "      <td>драмы, спорт, криминал</td>\n",
       "      <td>Россия</td>\n",
       "      <td>0.0</td>\n",
       "      <td>18.0</td>\n",
       "      <td>NaN</td>\n",
       "      <td>Марк О’Коннор, Конор МакМахон</td>\n",
       "      <td>Дэйн Уайт О’Хара, Томас Кэйн-Бирн, Джудит Родд...</td>\n",
       "      <td>Семнадцатилетний Дэмиен мечтает вырваться за п...</td>\n",
       "      <td>Среди, камней, 2019, Россия</td>\n",
       "      <td>[драмы, спорт, криминал]</td>\n",
       "      <td>[марк о’коннор, конор макмахон]</td>\n",
       "      <td>[россия]</td>\n",
       "    </tr>\n",
       "    <tr>\n",
       "      <th>15962</th>\n",
       "      <td>3206</td>\n",
       "      <td>series</td>\n",
       "      <td>Гоша</td>\n",
       "      <td>NaN</td>\n",
       "      <td>2019.0</td>\n",
       "      <td>комедии</td>\n",
       "      <td>Россия</td>\n",
       "      <td>0.0</td>\n",
       "      <td>16.0</td>\n",
       "      <td>NaN</td>\n",
       "      <td>Михаил Миронов</td>\n",
       "      <td>Мкртыч Арзуманян, Виктория Рунцова</td>\n",
       "      <td>Добродушный Гоша не может выйти из дома, чтобы...</td>\n",
       "      <td>Гоша, 2019, Россия</td>\n",
       "      <td>[комедии]</td>\n",
       "      <td>[михаил миронов]</td>\n",
       "      <td>[россия]</td>\n",
       "    </tr>\n",
       "  </tbody>\n",
       "</table>\n",
       "<p>14019 rows × 17 columns</p>\n",
       "</div>"
      ],
      "text/plain": [
       "       item_id content_type                 title      title_orig  \\\n",
       "0        10711         film        Поговори с ней  Hable con ella   \n",
       "1         2508         film           Голые перцы    Search Party   \n",
       "2        10716         film      Тактическая сила  Tactical Force   \n",
       "3         7868         film                45 лет        45 Years   \n",
       "4        16268         film  Все решает мгновение             NaN   \n",
       "...        ...          ...                   ...             ...   \n",
       "15958     6443       series         Полярный круг   Arctic Circle   \n",
       "15959     2367       series               Надежда             NaN   \n",
       "15960    10632       series                Сговор          Hassel   \n",
       "15961     4538       series          Среди камней      Darklands    \n",
       "15962     3206       series                  Гоша             NaN   \n",
       "\n",
       "       release_year                                            genres  \\\n",
       "0            2002.0           драмы, зарубежные, детективы, мелодрамы   \n",
       "1            2014.0                  зарубежные, приключения, комедии   \n",
       "2            2011.0  криминал, зарубежные, триллеры, боевики, комедии   \n",
       "3            2015.0                      драмы, зарубежные, мелодрамы   \n",
       "4            1978.0                драмы, спорт, советские, мелодрамы   \n",
       "...             ...                                               ...   \n",
       "15958        2018.0                         драмы, триллеры, криминал   \n",
       "15959        2020.0                                    драмы, боевики   \n",
       "15960        2017.0                         драмы, триллеры, криминал   \n",
       "15961        2019.0                            драмы, спорт, криминал   \n",
       "15962        2019.0                                           комедии   \n",
       "\n",
       "                 countries  for_kids  age_rating   studios  \\\n",
       "0                  Испания       NaN        16.0       NaN   \n",
       "1                      США       NaN        16.0       NaN   \n",
       "2                   Канада       NaN        16.0       NaN   \n",
       "3           Великобритания       NaN        16.0       NaN   \n",
       "4                     СССР       NaN        12.0  Ленфильм   \n",
       "...                    ...       ...         ...       ...   \n",
       "15958  Финляндия, Германия       NaN        16.0       NaN   \n",
       "15959               Россия       0.0        18.0       NaN   \n",
       "15960               Россия       0.0        18.0       NaN   \n",
       "15961               Россия       0.0        18.0       NaN   \n",
       "15962               Россия       0.0        16.0       NaN   \n",
       "\n",
       "                                   directors  \\\n",
       "0                           Педро Альмодовар   \n",
       "1                             Скот Армстронг   \n",
       "2                           Адам П. Калтраро   \n",
       "3                                  Эндрю Хэй   \n",
       "4                           Виктор Садовский   \n",
       "...                                      ...   \n",
       "15958                          Ханну Салонен   \n",
       "15959                         Елена Хазанова   \n",
       "15960  Эшреф Рейбрук, Амир Камдин, Эрик Эгер   \n",
       "15961          Марк О’Коннор, Конор МакМахон   \n",
       "15962                         Михаил Миронов   \n",
       "\n",
       "                                                  actors  \\\n",
       "0      Адольфо Фернандес, Ана Фернандес, Дарио Гранди...   \n",
       "1      Адам Палли, Брайан Хаски, Дж.Б. Смув, Джейсон ...   \n",
       "2      Адриан Холмс, Даррен Шалави, Джерри Вассерман,...   \n",
       "3      Александра Риддлстон-Барретт, Джеральдин Джейм...   \n",
       "4      Александр Абдулов, Александр Демьяненко, Алекс...   \n",
       "...                                                  ...   \n",
       "15958  Иина Куустонен, Максимилиан Брюкнер, Пихла Вии...   \n",
       "15959  Виктория Исакова, Александр Кузьмин, Алексей М...   \n",
       "15960  Ола Рапас, Алиетт Офейм, Уильма Лиден, Шанти Р...   \n",
       "15961  Дэйн Уайт О’Хара, Томас Кэйн-Бирн, Джудит Родд...   \n",
       "15962                 Мкртыч Арзуманян, Виктория Рунцова   \n",
       "\n",
       "                                             description  \\\n",
       "0      Мелодрама легендарного Педро Альмодовара «Пого...   \n",
       "1      Уморительная современная комедия на популярную...   \n",
       "2      Профессиональный рестлер Стив Остин («Все или ...   \n",
       "3      Шарлотта Рэмплинг, Том Кортни, Джеральдин Джей...   \n",
       "4      Расчетливая чаровница из советского кинохита «...   \n",
       "...                                                  ...   \n",
       "15958  Во время погони за браконьерами по лесу, сотру...   \n",
       "15959  Оригинальный киносериал от создателей «Бывших»...   \n",
       "15960  Криминальная драма по мотивам романов о шведск...   \n",
       "15961  Семнадцатилетний Дэмиен мечтает вырваться за п...   \n",
       "15962  Добродушный Гоша не может выйти из дома, чтобы...   \n",
       "\n",
       "                                                keywords  \\\n",
       "0      Поговори, ней, 2002, Испания, друзья, любовь, ...   \n",
       "1      Голые, перцы, 2014, США, друзья, свадьбы, прео...   \n",
       "2      Тактическая, сила, 2011, Канада, бандиты, ганг...   \n",
       "3      45, лет, 2015, Великобритания, брак, жизнь, лю...   \n",
       "4      Все, решает, мгновение, 1978, СССР, сильные, ж...   \n",
       "...                                                  ...   \n",
       "15958  убийство, вирус, расследование преступления, н...   \n",
       "15959                              Надежда, 2020, Россия   \n",
       "15960                               Сговор, 2017, Россия   \n",
       "15961                        Среди, камней, 2019, Россия   \n",
       "15962                                 Гоша, 2019, Россия   \n",
       "\n",
       "                                                   genre  \\\n",
       "0              [драмы, зарубежные, детективы, мелодрамы]   \n",
       "1                     [зарубежные, приключения, комедии]   \n",
       "2      [криминал, зарубежные, триллеры, боевики, коме...   \n",
       "3                         [драмы, зарубежные, мелодрамы]   \n",
       "4                   [драмы, спорт, советские, мелодрамы]   \n",
       "...                                                  ...   \n",
       "15958                        [драмы, триллеры, криминал]   \n",
       "15959                                   [драмы, боевики]   \n",
       "15960                        [драмы, триллеры, криминал]   \n",
       "15961                           [драмы, спорт, криминал]   \n",
       "15962                                          [комедии]   \n",
       "\n",
       "                                      director                country  \n",
       "0                           [педро альмодовар]              [испания]  \n",
       "1                             [скот армстронг]                  [сша]  \n",
       "2                           [адам п. калтраро]               [канада]  \n",
       "3                                  [эндрю хэй]       [великобритания]  \n",
       "4                           [виктор садовский]                 [ссср]  \n",
       "...                                        ...                    ...  \n",
       "15958                          [ханну салонен]  [финляндия, германия]  \n",
       "15959                         [елена хазанова]               [россия]  \n",
       "15960  [эшреф рейбрук, амир камдин, эрик эгер]               [россия]  \n",
       "15961          [марк о’коннор, конор макмахон]               [россия]  \n",
       "15962                         [михаил миронов]               [россия]  \n",
       "\n",
       "[14019 rows x 17 columns]"
      ]
     },
     "execution_count": 26,
     "metadata": {},
     "output_type": "execute_result"
    }
   ],
   "source": [
    "items"
   ]
  },
  {
   "cell_type": "code",
   "execution_count": 27,
   "id": "491c453a",
   "metadata": {
    "ExecuteTime": {
     "end_time": "2022-12-13T15:58:01.198285Z",
     "start_time": "2022-12-13T15:58:01.180146Z"
    }
   },
   "outputs": [
    {
     "data": {
      "text/html": [
       "<div>\n",
       "<style scoped>\n",
       "    .dataframe tbody tr th:only-of-type {\n",
       "        vertical-align: middle;\n",
       "    }\n",
       "\n",
       "    .dataframe tbody tr th {\n",
       "        vertical-align: top;\n",
       "    }\n",
       "\n",
       "    .dataframe thead th {\n",
       "        text-align: right;\n",
       "    }\n",
       "</style>\n",
       "<table border=\"1\" class=\"dataframe\">\n",
       "  <thead>\n",
       "    <tr style=\"text-align: right;\">\n",
       "      <th></th>\n",
       "      <th>id</th>\n",
       "      <th>value</th>\n",
       "      <th>feature</th>\n",
       "    </tr>\n",
       "  </thead>\n",
       "  <tbody>\n",
       "    <tr>\n",
       "      <th>0</th>\n",
       "      <td>10711</td>\n",
       "      <td>драмы</td>\n",
       "      <td>genre</td>\n",
       "    </tr>\n",
       "    <tr>\n",
       "      <th>0</th>\n",
       "      <td>10711</td>\n",
       "      <td>зарубежные</td>\n",
       "      <td>genre</td>\n",
       "    </tr>\n",
       "    <tr>\n",
       "      <th>0</th>\n",
       "      <td>10711</td>\n",
       "      <td>детективы</td>\n",
       "      <td>genre</td>\n",
       "    </tr>\n",
       "    <tr>\n",
       "      <th>0</th>\n",
       "      <td>10711</td>\n",
       "      <td>мелодрамы</td>\n",
       "      <td>genre</td>\n",
       "    </tr>\n",
       "    <tr>\n",
       "      <th>1</th>\n",
       "      <td>2508</td>\n",
       "      <td>зарубежные</td>\n",
       "      <td>genre</td>\n",
       "    </tr>\n",
       "    <tr>\n",
       "      <th>...</th>\n",
       "      <td>...</td>\n",
       "      <td>...</td>\n",
       "      <td>...</td>\n",
       "    </tr>\n",
       "    <tr>\n",
       "      <th>15960</th>\n",
       "      <td>10632</td>\n",
       "      <td>амир камдин</td>\n",
       "      <td>director</td>\n",
       "    </tr>\n",
       "    <tr>\n",
       "      <th>15960</th>\n",
       "      <td>10632</td>\n",
       "      <td>эрик эгер</td>\n",
       "      <td>director</td>\n",
       "    </tr>\n",
       "    <tr>\n",
       "      <th>15961</th>\n",
       "      <td>4538</td>\n",
       "      <td>марк о’коннор</td>\n",
       "      <td>director</td>\n",
       "    </tr>\n",
       "    <tr>\n",
       "      <th>15961</th>\n",
       "      <td>4538</td>\n",
       "      <td>конор макмахон</td>\n",
       "      <td>director</td>\n",
       "    </tr>\n",
       "    <tr>\n",
       "      <th>15962</th>\n",
       "      <td>3206</td>\n",
       "      <td>михаил миронов</td>\n",
       "      <td>director</td>\n",
       "    </tr>\n",
       "  </tbody>\n",
       "</table>\n",
       "<p>97633 rows × 3 columns</p>\n",
       "</div>"
      ],
      "text/plain": [
       "          id           value   feature\n",
       "0      10711           драмы     genre\n",
       "0      10711      зарубежные     genre\n",
       "0      10711       детективы     genre\n",
       "0      10711       мелодрамы     genre\n",
       "1       2508      зарубежные     genre\n",
       "...      ...             ...       ...\n",
       "15960  10632     амир камдин  director\n",
       "15960  10632       эрик эгер  director\n",
       "15961   4538   марк о’коннор  director\n",
       "15961   4538  конор макмахон  director\n",
       "15962   3206  михаил миронов  director\n",
       "\n",
       "[97633 rows x 3 columns]"
      ]
     },
     "execution_count": 27,
     "metadata": {},
     "output_type": "execute_result"
    }
   ],
   "source": [
    "# Объединяем фичи\n",
    "item_features = pd.concat((genre_feature, content_feature, country_feature, year_feature, director_feature))\n",
    "item_features"
   ]
  },
  {
   "cell_type": "markdown",
   "id": "3ef3616b",
   "metadata": {},
   "source": [
    "## Метрики"
   ]
  },
  {
   "cell_type": "code",
   "execution_count": 28,
   "id": "fecf5ee1",
   "metadata": {
    "ExecuteTime": {
     "end_time": "2022-12-13T15:58:01.205731Z",
     "start_time": "2022-12-13T15:58:01.201673Z"
    },
    "scrolled": true
   },
   "outputs": [
    {
     "name": "stdout",
     "output_type": "stream",
     "text": [
      "{'MAP@1': MAP(k=1, divide_by_k=False),\n",
      " 'MAP@10': MAP(k=10, divide_by_k=False),\n",
      " 'MAP@2': MAP(k=2, divide_by_k=False),\n",
      " 'MAP@3': MAP(k=3, divide_by_k=False),\n",
      " 'MAP@4': MAP(k=4, divide_by_k=False),\n",
      " 'MAP@5': MAP(k=5, divide_by_k=False),\n",
      " 'MAP@6': MAP(k=6, divide_by_k=False),\n",
      " 'MAP@7': MAP(k=7, divide_by_k=False),\n",
      " 'MAP@8': MAP(k=8, divide_by_k=False),\n",
      " 'MAP@9': MAP(k=9, divide_by_k=False),\n",
      " 'Precision@1': Precision(k=1),\n",
      " 'Precision@10': Precision(k=10),\n",
      " 'Precision@2': Precision(k=2),\n",
      " 'Precision@3': Precision(k=3),\n",
      " 'Precision@4': Precision(k=4),\n",
      " 'Precision@5': Precision(k=5),\n",
      " 'Precision@6': Precision(k=6),\n",
      " 'Precision@7': Precision(k=7),\n",
      " 'Precision@8': Precision(k=8),\n",
      " 'Precision@9': Precision(k=9),\n",
      " 'Recall@1': Recall(k=1),\n",
      " 'Recall@10': Recall(k=10),\n",
      " 'Recall@2': Recall(k=2),\n",
      " 'Recall@3': Recall(k=3),\n",
      " 'Recall@4': Recall(k=4),\n",
      " 'Recall@5': Recall(k=5),\n",
      " 'Recall@6': Recall(k=6),\n",
      " 'Recall@7': Recall(k=7),\n",
      " 'Recall@8': Recall(k=8),\n",
      " 'Recall@9': Recall(k=9)}\n"
     ]
    }
   ],
   "source": [
    "metrics_name = {\n",
    "    'Precision': Precision,\n",
    "    'Recall': Recall,\n",
    "    'MAP': MAP,\n",
    "}\n",
    "\n",
    "metrics = {}\n",
    "for metric_name, metric in metrics_name.items():\n",
    "    for k in range(1, 11):\n",
    "        metrics[f'{metric_name}@{k}'] = metric(k=k)\n",
    "\n",
    "\n",
    "pprint(metrics)"
   ]
  },
  {
   "cell_type": "markdown",
   "id": "7b3f8163",
   "metadata": {
    "ExecuteTime": {
     "end_time": "2022-11-28T14:43:47.297831Z",
     "start_time": "2022-11-28T14:43:47.290587Z"
    }
   },
   "source": [
    "## Подбор гиперпараметртов"
   ]
  },
  {
   "cell_type": "code",
   "execution_count": 29,
   "id": "919937f9",
   "metadata": {
    "ExecuteTime": {
     "end_time": "2022-12-13T15:58:02.377709Z",
     "start_time": "2022-12-13T15:58:01.207643Z"
    }
   },
   "outputs": [],
   "source": [
    "dataset = Dataset.construct(\n",
    "    interactions_df=train,\n",
    "    user_features_df=user_features,\n",
    "    cat_user_features=[\"sex\", \"age\", \"income\"],\n",
    "    item_features_df=item_features,\n",
    "    cat_item_features=[\"genre\", \"content_type\", \"director\", \"country\", \"release_year\"],\n",
    ")\n",
    "\n",
    "TEST_USERS = test[Columns.User].unique()"
   ]
  },
  {
   "cell_type": "code",
   "execution_count": null,
   "id": "3812dde4",
   "metadata": {
    "ExecuteTime": {
     "end_time": "2022-12-11T13:53:48.016719Z",
     "start_time": "2022-12-11T13:53:46.499808Z"
    }
   },
   "outputs": [],
   "source": [
    "results_opto = []\n",
    "def objective(trial):\n",
    "    # общие параметры\n",
    "    K_RECOS = 10\n",
    "    RANDOM_STATE = 42\n",
    "    NUM_THREADS = 4\n",
    "    N_FACTORS = trial.suggest_int(\"factors\", 32, 64, 32, log=False)\n",
    "\n",
    "    reco_model = trial.suggest_categorical(\"reco_model\", [\"ALS\", \"LightFM\"])\n",
    "    model_quality_opto = {\"model\": f\"{reco_model}_{trial.number}\"}\n",
    "\n",
    "    if reco_model == \"ALS\":\n",
    "        # гиперпараметры для ALS\n",
    "        regularization = trial.suggest_float(\"regularization\",\n",
    "                                             1e-4,\n",
    "                                             1.0,\n",
    "                                             log=False)\n",
    "        iterations = trial.suggest_int(\"iterations\", 1, 6, 2, log=False)\n",
    "        is_fitting_features = True\n",
    "        # Инициализация ALS\n",
    "        model = ImplicitALSWrapperModel(\n",
    "            model=AlternatingLeastSquares(factors=N_FACTORS,\n",
    "                                 random_state=RANDOM_STATE,\n",
    "                                 num_threads=NUM_THREADS,\n",
    "                                 regularization=regularization,\n",
    "                                 iterations=iterations),\n",
    "            fit_features_together=is_fitting_features,\n",
    "        )\n",
    "    else:\n",
    "        # гиперпараметры для Lightfm\n",
    "        N_EPOCHS = trial.suggest_int(\"epochs\", 1, 50, 10, log=False)  # Lightfm\n",
    "        USER_ALPHA = trial.suggest_float(\"user_alpha\",\n",
    "                                         1e-3,\n",
    "                                         1.0,\n",
    "                                         log=True)  # Lightfm\n",
    "        ITEM_ALPHA = trial.suggest_float(\"item_alpha\", 1e-3, 1.0,\n",
    "                                         log=True)  # Lightfm\n",
    "        LEARNING_RATE = trial.suggest_float(\"learning_rate\",\n",
    "                                            1e-4,\n",
    "                                            1.0,\n",
    "                                            log=True)  # Lightfm\n",
    "        # Инициализация Lightfm\n",
    "        model = LightFMWrapperModel(\n",
    "            LightFM(\n",
    "                no_components=N_FACTORS,\n",
    "                loss=loss,\n",
    "                random_state=RANDOM_STATE,\n",
    "                learning_rate=LEARNING_RATE,\n",
    "                user_alpha=USER_ALPHA,\n",
    "                item_alpha=ITEM_ALPHA,\n",
    "            ),\n",
    "            epochs=N_EPOCHS,\n",
    "            num_threads=NUM_THREADS,\n",
    "        )\n",
    "\n",
    "    # обучение модели\n",
    "    model.fit(dataset)\n",
    "    recos = model.recommend(\n",
    "        users=TEST_USERS,\n",
    "        dataset=dataset,\n",
    "        k=K_RECOS,\n",
    "        filter_viewed=True,\n",
    "    )\n",
    "\n",
    "    # Подсчет метрик\n",
    "    metric_values = calc_metrics(metrics, recos, test, train)\n",
    "    model_quality_opto.update(metric_values)\n",
    "    results_opto.append(model_quality_opto)\n",
    "\n",
    "    return metric_values.get('MAP@10') # максимизируемая метрика"
   ]
  },
  {
   "cell_type": "code",
   "execution_count": null,
   "id": "e2a792fa",
   "metadata": {
    "ExecuteTime": {
     "end_time": "2022-12-01T15:59:07.341209Z",
     "start_time": "2022-12-01T15:59:06.738438Z"
    }
   },
   "outputs": [],
   "source": [
    "# запуск подбора гиперпараметров\n",
    "study = optuna.create_study(direction=\"maximize\")\n",
    "study.optimize(objective, n_trials=1)\n",
    "\n",
    "pprint(f\"Number of finished trials: {len(study.trials)}\")\n",
    "trial = study.best_trial\n",
    "pprint(f\"Best trial: {trial}\")"
   ]
  },
  {
   "cell_type": "markdown",
   "id": "20755865",
   "metadata": {},
   "source": [
    "## Approximate Nearest Neighbors"
   ]
  },
  {
   "cell_type": "code",
   "execution_count": 30,
   "id": "fc4e72b0",
   "metadata": {
    "ExecuteTime": {
     "end_time": "2022-12-13T15:58:06.600843Z",
     "start_time": "2022-12-13T15:58:06.595823Z"
    }
   },
   "outputs": [],
   "source": [
    "K_RECOS = 10\n",
    "RANDOM_STATE = 42\n",
    "NUM_THREADS = 4\n",
    "N_FACTORS = 64\n",
    "N_EPOCHS = 1 # Lightfm\n",
    "USER_ALPHA = 0 # Lightfm\n",
    "ITEM_ALPHA = 0 # Lightfm\n",
    "LEARNING_RATE = 0.03 # Lightfm"
   ]
  },
  {
   "cell_type": "code",
   "execution_count": 31,
   "id": "78d6ef6a",
   "metadata": {
    "ExecuteTime": {
     "end_time": "2022-12-13T15:58:30.131881Z",
     "start_time": "2022-12-13T15:58:14.443004Z"
    },
    "scrolled": true
   },
   "outputs": [
    {
     "data": {
      "text/plain": [
       "<rectools.models.lightfm.LightFMWrapperModel at 0x7f02ed119fa0>"
      ]
     },
     "execution_count": 31,
     "metadata": {},
     "output_type": "execute_result"
    }
   ],
   "source": [
    "model = LightFMWrapperModel(\n",
    "            LightFM(\n",
    "                no_components=N_FACTORS,\n",
    "                loss='warp',\n",
    "                random_state=RANDOM_STATE,\n",
    "                learning_rate=LEARNING_RATE,\n",
    "                user_alpha=USER_ALPHA,\n",
    "                item_alpha=ITEM_ALPHA,\n",
    "            ),\n",
    "            epochs=N_EPOCHS,\n",
    "            num_threads=NUM_THREADS,\n",
    "        )\n",
    "\n",
    "model.fit(dataset)"
   ]
  },
  {
   "cell_type": "code",
   "execution_count": 32,
   "id": "fb40ad48",
   "metadata": {
    "ExecuteTime": {
     "end_time": "2022-12-13T15:59:52.847041Z",
     "start_time": "2022-12-13T15:58:32.475060Z"
    }
   },
   "outputs": [],
   "source": [
    "recos = model.recommend(\n",
    "    users=TEST_USERS,\n",
    "    dataset=dataset,\n",
    "    k=K_RECOS,\n",
    "    filter_viewed=True,\n",
    ")"
   ]
  },
  {
   "cell_type": "code",
   "execution_count": 33,
   "id": "45519095",
   "metadata": {
    "ExecuteTime": {
     "end_time": "2022-12-13T16:00:08.247666Z",
     "start_time": "2022-12-13T16:00:07.161665Z"
    }
   },
   "outputs": [],
   "source": [
    "results = []\n",
    "model_quality = {'model': 'LightFM'}\n",
    "metric_values = calc_metrics(metrics, recos, test, train)\n",
    "model_quality.update(metric_values)\n",
    "results.append(model_quality)\n",
    "\n",
    "df_quality = pd.DataFrame(results).T\n",
    "\n",
    "df_quality.columns = df_quality.iloc[0]\n",
    "\n",
    "df_quality.drop('model', inplace=True)"
   ]
  },
  {
   "cell_type": "code",
   "execution_count": 34,
   "id": "bc0254fb",
   "metadata": {
    "ExecuteTime": {
     "end_time": "2022-12-13T16:00:12.237417Z",
     "start_time": "2022-12-13T16:00:11.545671Z"
    },
    "scrolled": true
   },
   "outputs": [
    {
     "data": {
      "text/html": [
       "<style type=\"text/css\">\n",
       "#T_ebd1d_row0_col0, #T_ebd1d_row1_col0, #T_ebd1d_row2_col0, #T_ebd1d_row3_col0, #T_ebd1d_row4_col0, #T_ebd1d_row5_col0, #T_ebd1d_row6_col0, #T_ebd1d_row7_col0, #T_ebd1d_row8_col0, #T_ebd1d_row9_col0, #T_ebd1d_row10_col0, #T_ebd1d_row11_col0, #T_ebd1d_row12_col0, #T_ebd1d_row13_col0, #T_ebd1d_row14_col0, #T_ebd1d_row15_col0, #T_ebd1d_row16_col0, #T_ebd1d_row17_col0, #T_ebd1d_row18_col0, #T_ebd1d_row19_col0, #T_ebd1d_row20_col0, #T_ebd1d_row21_col0, #T_ebd1d_row22_col0, #T_ebd1d_row23_col0, #T_ebd1d_row24_col0, #T_ebd1d_row25_col0, #T_ebd1d_row26_col0, #T_ebd1d_row27_col0, #T_ebd1d_row28_col0, #T_ebd1d_row29_col0 {\n",
       "  background-color: lightgreen;\n",
       "}\n",
       "</style>\n",
       "<table id=\"T_ebd1d\">\n",
       "  <thead>\n",
       "    <tr>\n",
       "      <th class=\"index_name level0\" >model</th>\n",
       "      <th id=\"T_ebd1d_level0_col0\" class=\"col_heading level0 col0\" >LightFM</th>\n",
       "    </tr>\n",
       "  </thead>\n",
       "  <tbody>\n",
       "    <tr>\n",
       "      <th id=\"T_ebd1d_level0_row0\" class=\"row_heading level0 row0\" >Precision@1</th>\n",
       "      <td id=\"T_ebd1d_row0_col0\" class=\"data row0 col0\" >0.080547</td>\n",
       "    </tr>\n",
       "    <tr>\n",
       "      <th id=\"T_ebd1d_level0_row1\" class=\"row_heading level0 row1\" >Recall@1</th>\n",
       "      <td id=\"T_ebd1d_row1_col0\" class=\"data row1 col0\" >0.040954</td>\n",
       "    </tr>\n",
       "    <tr>\n",
       "      <th id=\"T_ebd1d_level0_row2\" class=\"row_heading level0 row2\" >Precision@2</th>\n",
       "      <td id=\"T_ebd1d_row2_col0\" class=\"data row2 col0\" >0.070289</td>\n",
       "    </tr>\n",
       "    <tr>\n",
       "      <th id=\"T_ebd1d_level0_row3\" class=\"row_heading level0 row3\" >Recall@2</th>\n",
       "      <td id=\"T_ebd1d_row3_col0\" class=\"data row3 col0\" >0.070149</td>\n",
       "    </tr>\n",
       "    <tr>\n",
       "      <th id=\"T_ebd1d_level0_row4\" class=\"row_heading level0 row4\" >Precision@3</th>\n",
       "      <td id=\"T_ebd1d_row4_col0\" class=\"data row4 col0\" >0.062499</td>\n",
       "    </tr>\n",
       "    <tr>\n",
       "      <th id=\"T_ebd1d_level0_row5\" class=\"row_heading level0 row5\" >Recall@3</th>\n",
       "      <td id=\"T_ebd1d_row5_col0\" class=\"data row5 col0\" >0.091918</td>\n",
       "    </tr>\n",
       "    <tr>\n",
       "      <th id=\"T_ebd1d_level0_row6\" class=\"row_heading level0 row6\" >Precision@4</th>\n",
       "      <td id=\"T_ebd1d_row6_col0\" class=\"data row6 col0\" >0.056489</td>\n",
       "    </tr>\n",
       "    <tr>\n",
       "      <th id=\"T_ebd1d_level0_row7\" class=\"row_heading level0 row7\" >Recall@4</th>\n",
       "      <td id=\"T_ebd1d_row7_col0\" class=\"data row7 col0\" >0.109624</td>\n",
       "    </tr>\n",
       "    <tr>\n",
       "      <th id=\"T_ebd1d_level0_row8\" class=\"row_heading level0 row8\" >Precision@5</th>\n",
       "      <td id=\"T_ebd1d_row8_col0\" class=\"data row8 col0\" >0.051557</td>\n",
       "    </tr>\n",
       "    <tr>\n",
       "      <th id=\"T_ebd1d_level0_row9\" class=\"row_heading level0 row9\" >Recall@5</th>\n",
       "      <td id=\"T_ebd1d_row9_col0\" class=\"data row9 col0\" >0.124173</td>\n",
       "    </tr>\n",
       "    <tr>\n",
       "      <th id=\"T_ebd1d_level0_row10\" class=\"row_heading level0 row10\" >Precision@6</th>\n",
       "      <td id=\"T_ebd1d_row10_col0\" class=\"data row10 col0\" >0.047259</td>\n",
       "    </tr>\n",
       "    <tr>\n",
       "      <th id=\"T_ebd1d_level0_row11\" class=\"row_heading level0 row11\" >Recall@6</th>\n",
       "      <td id=\"T_ebd1d_row11_col0\" class=\"data row11 col0\" >0.135372</td>\n",
       "    </tr>\n",
       "    <tr>\n",
       "      <th id=\"T_ebd1d_level0_row12\" class=\"row_heading level0 row12\" >Precision@7</th>\n",
       "      <td id=\"T_ebd1d_row12_col0\" class=\"data row12 col0\" >0.043617</td>\n",
       "    </tr>\n",
       "    <tr>\n",
       "      <th id=\"T_ebd1d_level0_row13\" class=\"row_heading level0 row13\" >Recall@7</th>\n",
       "      <td id=\"T_ebd1d_row13_col0\" class=\"data row13 col0\" >0.144366</td>\n",
       "    </tr>\n",
       "    <tr>\n",
       "      <th id=\"T_ebd1d_level0_row14\" class=\"row_heading level0 row14\" >Precision@8</th>\n",
       "      <td id=\"T_ebd1d_row14_col0\" class=\"data row14 col0\" >0.040582</td>\n",
       "    </tr>\n",
       "    <tr>\n",
       "      <th id=\"T_ebd1d_level0_row15\" class=\"row_heading level0 row15\" >Recall@8</th>\n",
       "      <td id=\"T_ebd1d_row15_col0\" class=\"data row15 col0\" >0.152771</td>\n",
       "    </tr>\n",
       "    <tr>\n",
       "      <th id=\"T_ebd1d_level0_row16\" class=\"row_heading level0 row16\" >Precision@9</th>\n",
       "      <td id=\"T_ebd1d_row16_col0\" class=\"data row16 col0\" >0.038025</td>\n",
       "    </tr>\n",
       "    <tr>\n",
       "      <th id=\"T_ebd1d_level0_row17\" class=\"row_heading level0 row17\" >Recall@9</th>\n",
       "      <td id=\"T_ebd1d_row17_col0\" class=\"data row17 col0\" >0.160171</td>\n",
       "    </tr>\n",
       "    <tr>\n",
       "      <th id=\"T_ebd1d_level0_row18\" class=\"row_heading level0 row18\" >Precision@10</th>\n",
       "      <td id=\"T_ebd1d_row18_col0\" class=\"data row18 col0\" >0.035904</td>\n",
       "    </tr>\n",
       "    <tr>\n",
       "      <th id=\"T_ebd1d_level0_row19\" class=\"row_heading level0 row19\" >Recall@10</th>\n",
       "      <td id=\"T_ebd1d_row19_col0\" class=\"data row19 col0\" >0.167328</td>\n",
       "    </tr>\n",
       "    <tr>\n",
       "      <th id=\"T_ebd1d_level0_row20\" class=\"row_heading level0 row20\" >MAP@1</th>\n",
       "      <td id=\"T_ebd1d_row20_col0\" class=\"data row20 col0\" >0.040954</td>\n",
       "    </tr>\n",
       "    <tr>\n",
       "      <th id=\"T_ebd1d_level0_row21\" class=\"row_heading level0 row21\" >MAP@2</th>\n",
       "      <td id=\"T_ebd1d_row21_col0\" class=\"data row21 col0\" >0.056299</td>\n",
       "    </tr>\n",
       "    <tr>\n",
       "      <th id=\"T_ebd1d_level0_row22\" class=\"row_heading level0 row22\" >MAP@3</th>\n",
       "      <td id=\"T_ebd1d_row22_col0\" class=\"data row22 col0\" >0.064165</td>\n",
       "    </tr>\n",
       "    <tr>\n",
       "      <th id=\"T_ebd1d_level0_row23\" class=\"row_heading level0 row23\" >MAP@4</th>\n",
       "      <td id=\"T_ebd1d_row23_col0\" class=\"data row23 col0\" >0.069086</td>\n",
       "    </tr>\n",
       "    <tr>\n",
       "      <th id=\"T_ebd1d_level0_row24\" class=\"row_heading level0 row24\" >MAP@5</th>\n",
       "      <td id=\"T_ebd1d_row24_col0\" class=\"data row24 col0\" >0.072429</td>\n",
       "    </tr>\n",
       "    <tr>\n",
       "      <th id=\"T_ebd1d_level0_row25\" class=\"row_heading level0 row25\" >MAP@6</th>\n",
       "      <td id=\"T_ebd1d_row25_col0\" class=\"data row25 col0\" >0.074604</td>\n",
       "    </tr>\n",
       "    <tr>\n",
       "      <th id=\"T_ebd1d_level0_row26\" class=\"row_heading level0 row26\" >MAP@7</th>\n",
       "      <td id=\"T_ebd1d_row26_col0\" class=\"data row26 col0\" >0.076136</td>\n",
       "    </tr>\n",
       "    <tr>\n",
       "      <th id=\"T_ebd1d_level0_row27\" class=\"row_heading level0 row27\" >MAP@8</th>\n",
       "      <td id=\"T_ebd1d_row27_col0\" class=\"data row27 col0\" >0.077383</td>\n",
       "    </tr>\n",
       "    <tr>\n",
       "      <th id=\"T_ebd1d_level0_row28\" class=\"row_heading level0 row28\" >MAP@9</th>\n",
       "      <td id=\"T_ebd1d_row28_col0\" class=\"data row28 col0\" >0.078387</td>\n",
       "    </tr>\n",
       "    <tr>\n",
       "      <th id=\"T_ebd1d_level0_row29\" class=\"row_heading level0 row29\" >MAP@10</th>\n",
       "      <td id=\"T_ebd1d_row29_col0\" class=\"data row29 col0\" >0.079263</td>\n",
       "    </tr>\n",
       "  </tbody>\n",
       "</table>\n"
      ],
      "text/plain": [
       "<pandas.io.formats.style.Styler at 0x7f02ed71a250>"
      ]
     },
     "execution_count": 34,
     "metadata": {},
     "output_type": "execute_result"
    }
   ],
   "source": [
    "df_quality.style.highlight_max(color='lightgreen', axis=1)"
   ]
  },
  {
   "cell_type": "code",
   "execution_count": null,
   "id": "eb45892a",
   "metadata": {
    "ExecuteTime": {
     "end_time": "2022-12-11T13:59:28.539360Z",
     "start_time": "2022-12-11T13:59:22.320258Z"
    }
   },
   "outputs": [],
   "source": [
    "dill_file = Path().cwd().parent / 'service' / 'models'\n",
    "\n",
    "with open(dill_file / 'LightFM_0.077731.dill', 'wb') as f:\n",
    "    dill.dump(model, f)"
   ]
  },
  {
   "cell_type": "code",
   "execution_count": null,
   "id": "0952d7ce",
   "metadata": {
    "ExecuteTime": {
     "end_time": "2022-12-11T13:59:31.549103Z",
     "start_time": "2022-12-11T13:59:30.231699Z"
    }
   },
   "outputs": [],
   "source": [
    "dill_file = Path().cwd().parent / 'service' / 'data'\n",
    "\n",
    "with open(dill_file / 'dataset_LightFM_0.077731.dill', 'wb') as f:\n",
    "    dill.dump(dataset, f)"
   ]
  },
  {
   "cell_type": "code",
   "execution_count": 35,
   "id": "ec377a72",
   "metadata": {
    "ExecuteTime": {
     "end_time": "2022-12-13T16:00:20.260972Z",
     "start_time": "2022-12-13T16:00:19.794086Z"
    }
   },
   "outputs": [],
   "source": [
    "user_embeddings, item_embeddings = model.get_vectors(dataset)"
   ]
  },
  {
   "cell_type": "code",
   "execution_count": 36,
   "id": "2645cfef",
   "metadata": {
    "ExecuteTime": {
     "end_time": "2022-12-13T16:00:22.378042Z",
     "start_time": "2022-12-13T16:00:22.370288Z"
    }
   },
   "outputs": [
    {
     "data": {
      "text/plain": [
       "((756562, 66), (14019, 66))"
      ]
     },
     "execution_count": 36,
     "metadata": {},
     "output_type": "execute_result"
    }
   ],
   "source": [
    "user_embeddings.shape, item_embeddings.shape"
   ]
  },
  {
   "cell_type": "code",
   "execution_count": 37,
   "id": "38c068b1",
   "metadata": {
    "ExecuteTime": {
     "end_time": "2022-12-13T16:00:23.918274Z",
     "start_time": "2022-12-13T16:00:23.912849Z"
    }
   },
   "outputs": [],
   "source": [
    "def augment_inner_product(factors):\n",
    "    normed_factors = np.linalg.norm(factors, axis=1)\n",
    "    max_norm = normed_factors.max()\n",
    "\n",
    "    extra_dim = np.sqrt(max_norm ** 2 - normed_factors ** 2).reshape(-1, 1)\n",
    "    augmented_factors = np.append(factors, extra_dim, axis=1)\n",
    "    return max_norm, augmented_factors"
   ]
  },
  {
   "cell_type": "code",
   "execution_count": 38,
   "id": "8b72dba3",
   "metadata": {
    "ExecuteTime": {
     "end_time": "2022-12-13T16:00:25.613814Z",
     "start_time": "2022-12-13T16:00:25.602694Z"
    }
   },
   "outputs": [
    {
     "name": "stdout",
     "output_type": "stream",
     "text": [
      "pre shape:  (14019, 66)\n"
     ]
    },
    {
     "data": {
      "text/plain": [
       "(14019, 67)"
      ]
     },
     "execution_count": 38,
     "metadata": {},
     "output_type": "execute_result"
    }
   ],
   "source": [
    "print('pre shape: ', item_embeddings.shape)\n",
    "max_norm, augmented_item_embeddings = augment_inner_product(item_embeddings)\n",
    "augmented_item_embeddings.shape"
   ]
  },
  {
   "cell_type": "code",
   "execution_count": 39,
   "id": "b13fca33",
   "metadata": {
    "ExecuteTime": {
     "end_time": "2022-12-13T16:00:27.737313Z",
     "start_time": "2022-12-13T16:00:27.392577Z"
    }
   },
   "outputs": [
    {
     "data": {
      "text/plain": [
       "(756562, 67)"
      ]
     },
     "execution_count": 39,
     "metadata": {},
     "output_type": "execute_result"
    }
   ],
   "source": [
    "extra_zero = np.zeros((user_embeddings.shape[0], 1))\n",
    "augmented_user_embeddings = np.append(user_embeddings, extra_zero, axis=1)\n",
    "augmented_user_embeddings.shape"
   ]
  },
  {
   "cell_type": "code",
   "execution_count": 40,
   "id": "bd99a89d",
   "metadata": {
    "ExecuteTime": {
     "end_time": "2022-12-13T16:00:28.957005Z",
     "start_time": "2022-12-13T16:00:28.952839Z"
    }
   },
   "outputs": [
    {
     "data": {
      "text/plain": [
       "array([-1.34894012e+02,  1.00000000e+00,  1.00714557e-01, -6.25729002e-03,\n",
       "       -1.56493321e-01, -1.22138739e-01, -6.63710684e-02, -1.26631781e-01,\n",
       "       -1.56546742e-01,  1.01491921e-01,  8.13698769e-02,  5.85260615e-02,\n",
       "        1.26931787e-01, -2.33436003e-03, -1.02404147e-01,  1.66817725e-01,\n",
       "        8.41976255e-02, -1.39565051e-01, -1.36328846e-01,  1.41888916e-01,\n",
       "       -9.98832583e-02,  2.58796632e-01, -1.26339853e-01,  1.54643044e-01,\n",
       "        8.29044804e-02,  2.82617390e-01,  9.75088477e-02,  1.60950050e-01,\n",
       "        8.15599412e-02, -3.62590924e-02,  3.25235203e-02,  1.48865674e-03,\n",
       "        2.30096489e-01, -7.56966099e-02,  9.67366993e-02, -4.24015447e-02,\n",
       "        1.04947388e-01,  8.20255429e-02,  2.23048240e-01,  3.46219465e-02,\n",
       "       -1.70856580e-01,  6.62330985e-02,  1.50335908e-01, -1.11096509e-01,\n",
       "       -2.13334829e-01,  6.16197735e-02,  1.37900323e-01,  3.35366391e-02,\n",
       "        8.33489522e-02, -7.36961467e-03, -2.01159474e-02, -1.74889877e-01,\n",
       "        8.63423198e-02, -2.38389056e-02, -8.59102383e-02, -9.85159203e-02,\n",
       "       -2.70280868e-01,  2.87751481e-03, -1.06678620e-01,  1.26845077e-01,\n",
       "       -3.42728794e-01,  1.34130627e-01,  1.03409179e-01, -5.51247075e-02,\n",
       "       -2.99796700e-01,  3.29195336e-02])"
      ]
     },
     "execution_count": 40,
     "metadata": {},
     "output_type": "execute_result"
    }
   ],
   "source": [
    "user_id = 30\n",
    "user_embeddings[user_id]"
   ]
  },
  {
   "cell_type": "code",
   "execution_count": 41,
   "id": "2356f164",
   "metadata": {
    "ExecuteTime": {
     "end_time": "2022-12-13T16:00:31.550050Z",
     "start_time": "2022-12-13T16:00:31.545451Z"
    }
   },
   "outputs": [
    {
     "data": {
      "text/plain": [
       "array([-1.34894012e+02,  1.00000000e+00,  1.00714557e-01, -6.25729002e-03,\n",
       "       -1.56493321e-01, -1.22138739e-01, -6.63710684e-02, -1.26631781e-01,\n",
       "       -1.56546742e-01,  1.01491921e-01,  8.13698769e-02,  5.85260615e-02,\n",
       "        1.26931787e-01, -2.33436003e-03, -1.02404147e-01,  1.66817725e-01,\n",
       "        8.41976255e-02, -1.39565051e-01, -1.36328846e-01,  1.41888916e-01,\n",
       "       -9.98832583e-02,  2.58796632e-01, -1.26339853e-01,  1.54643044e-01,\n",
       "        8.29044804e-02,  2.82617390e-01,  9.75088477e-02,  1.60950050e-01,\n",
       "        8.15599412e-02, -3.62590924e-02,  3.25235203e-02,  1.48865674e-03,\n",
       "        2.30096489e-01, -7.56966099e-02,  9.67366993e-02, -4.24015447e-02,\n",
       "        1.04947388e-01,  8.20255429e-02,  2.23048240e-01,  3.46219465e-02,\n",
       "       -1.70856580e-01,  6.62330985e-02,  1.50335908e-01, -1.11096509e-01,\n",
       "       -2.13334829e-01,  6.16197735e-02,  1.37900323e-01,  3.35366391e-02,\n",
       "        8.33489522e-02, -7.36961467e-03, -2.01159474e-02, -1.74889877e-01,\n",
       "        8.63423198e-02, -2.38389056e-02, -8.59102383e-02, -9.85159203e-02,\n",
       "       -2.70280868e-01,  2.87751481e-03, -1.06678620e-01,  1.26845077e-01,\n",
       "       -3.42728794e-01,  1.34130627e-01,  1.03409179e-01, -5.51247075e-02,\n",
       "       -2.99796700e-01,  3.29195336e-02,  0.00000000e+00])"
      ]
     },
     "execution_count": 41,
     "metadata": {},
     "output_type": "execute_result"
    }
   ],
   "source": [
    "augmented_user_embeddings[user_id]"
   ]
  },
  {
   "cell_type": "code",
   "execution_count": 42,
   "id": "58489170",
   "metadata": {
    "ExecuteTime": {
     "end_time": "2022-12-13T16:00:33.382421Z",
     "start_time": "2022-12-13T16:00:33.376726Z"
    }
   },
   "outputs": [
    {
     "data": {
      "text/plain": [
       "array([ 1.00000000e+00,  2.03658557e+00, -1.12509266e-01, -4.64889020e-01,\n",
       "       -5.56189656e-01, -6.18750304e-02,  3.92084777e-01, -3.29880089e-01,\n",
       "        1.68671131e-01, -5.70910387e-02,  5.19758224e-01,  9.09415111e-02,\n",
       "        1.08585857e-01, -1.06161319e-01,  1.38451487e-01,  1.87685519e-01,\n",
       "        1.40206993e-01, -6.58914506e-01, -7.87169576e-01,  4.52640474e-01,\n",
       "       -5.44372261e-01, -2.78393924e-03, -2.01153070e-01,  1.03138484e-01,\n",
       "        1.80404589e-01,  7.32701540e-01,  2.39813641e-01,  3.15915614e-01,\n",
       "        3.18932325e-01, -6.14581943e-01,  2.77248889e-01,  9.05691743e-01,\n",
       "        5.19213319e-01,  7.09174275e-01,  5.34486353e-01,  4.58662570e-01,\n",
       "        3.76765192e-01,  4.11570102e-01,  5.74672937e-01, -7.04593956e-01,\n",
       "        3.77719775e-02, -1.04346231e-01,  9.16397944e-02, -2.05888137e-01,\n",
       "        1.37072429e-03,  7.61955082e-01,  4.24346924e-01, -1.59893095e-01,\n",
       "        9.75789130e-02, -2.30360832e-02,  2.19875410e-01, -1.20117962e-01,\n",
       "       -3.64979357e-02, -4.85506579e-02,  9.25960317e-02, -1.00450814e+00,\n",
       "       -6.00525677e-01, -8.02704334e-01, -5.42478204e-01,  6.82780743e-01,\n",
       "       -3.93136322e-01,  8.73645097e-02,  1.74846113e-01, -9.40286756e-01,\n",
       "       -2.04181969e-02,  9.11199152e-01])"
      ]
     },
     "execution_count": 42,
     "metadata": {},
     "output_type": "execute_result"
    }
   ],
   "source": [
    "item_id = 0\n",
    "item_embeddings[item_id]"
   ]
  },
  {
   "cell_type": "code",
   "execution_count": 43,
   "id": "13c46ce3",
   "metadata": {
    "ExecuteTime": {
     "end_time": "2022-12-13T16:00:35.722707Z",
     "start_time": "2022-12-13T16:00:35.713027Z"
    }
   },
   "outputs": [
    {
     "data": {
      "text/plain": [
       "array([ 1.00000000e+00,  2.03658557e+00, -1.12509266e-01, -4.64889020e-01,\n",
       "       -5.56189656e-01, -6.18750304e-02,  3.92084777e-01, -3.29880089e-01,\n",
       "        1.68671131e-01, -5.70910387e-02,  5.19758224e-01,  9.09415111e-02,\n",
       "        1.08585857e-01, -1.06161319e-01,  1.38451487e-01,  1.87685519e-01,\n",
       "        1.40206993e-01, -6.58914506e-01, -7.87169576e-01,  4.52640474e-01,\n",
       "       -5.44372261e-01, -2.78393924e-03, -2.01153070e-01,  1.03138484e-01,\n",
       "        1.80404589e-01,  7.32701540e-01,  2.39813641e-01,  3.15915614e-01,\n",
       "        3.18932325e-01, -6.14581943e-01,  2.77248889e-01,  9.05691743e-01,\n",
       "        5.19213319e-01,  7.09174275e-01,  5.34486353e-01,  4.58662570e-01,\n",
       "        3.76765192e-01,  4.11570102e-01,  5.74672937e-01, -7.04593956e-01,\n",
       "        3.77719775e-02, -1.04346231e-01,  9.16397944e-02, -2.05888137e-01,\n",
       "        1.37072429e-03,  7.61955082e-01,  4.24346924e-01, -1.59893095e-01,\n",
       "        9.75789130e-02, -2.30360832e-02,  2.19875410e-01, -1.20117962e-01,\n",
       "       -3.64979357e-02, -4.85506579e-02,  9.25960317e-02, -1.00450814e+00,\n",
       "       -6.00525677e-01, -8.02704334e-01, -5.42478204e-01,  6.82780743e-01,\n",
       "       -3.93136322e-01,  8.73645097e-02,  1.74846113e-01, -9.40286756e-01,\n",
       "       -2.04181969e-02,  9.11199152e-01,  8.97523936e+00])"
      ]
     },
     "execution_count": 43,
     "metadata": {},
     "output_type": "execute_result"
    }
   ],
   "source": [
    "augmented_item_embeddings[item_id]"
   ]
  },
  {
   "cell_type": "code",
   "execution_count": 44,
   "id": "b62f4943",
   "metadata": {
    "ExecuteTime": {
     "end_time": "2022-12-13T16:00:38.687791Z",
     "start_time": "2022-12-13T16:00:38.680793Z"
    }
   },
   "outputs": [
    {
     "name": "stdout",
     "output_type": "stream",
     "text": [
      "Index-time parameters {'M': 48, 'indexThreadQty': 4, 'efConstruction': 100, 'post': 0}\n"
     ]
    }
   ],
   "source": [
    "# Set index parameters\n",
    "# These are the most important ones\n",
    "M = 48\n",
    "efC = 100\n",
    "\n",
    "# Number of neighbors\n",
    "K=10\n",
    "\n",
    "# Space name should correspond to the space name\n",
    "# used for brute-force search\n",
    "space_name='negdotprod'\n",
    "\n",
    "num_threads = 4\n",
    "index_time_params = {'M': M, 'indexThreadQty': num_threads, 'efConstruction': efC, 'post' : 0}\n",
    "print('Index-time parameters', index_time_params)"
   ]
  },
  {
   "cell_type": "code",
   "execution_count": 45,
   "id": "06c35228",
   "metadata": {
    "ExecuteTime": {
     "end_time": "2022-12-13T16:00:40.936568Z",
     "start_time": "2022-12-13T16:00:40.920188Z"
    }
   },
   "outputs": [
    {
     "data": {
      "text/plain": [
       "14019"
      ]
     },
     "execution_count": 45,
     "metadata": {},
     "output_type": "execute_result"
    }
   ],
   "source": [
    "\n",
    "# Intitialize the library, specify the space, the type of the vector and add data points\n",
    "index = nmslib.init(method='hnsw', space=space_name, data_type=nmslib.DataType.DENSE_VECTOR)\n",
    "index.addDataPointBatch(augmented_item_embeddings)"
   ]
  },
  {
   "cell_type": "code",
   "execution_count": 46,
   "id": "e24fb1d5",
   "metadata": {
    "ExecuteTime": {
     "end_time": "2022-12-13T16:00:42.587581Z",
     "start_time": "2022-12-13T16:00:42.185017Z"
    }
   },
   "outputs": [
    {
     "name": "stdout",
     "output_type": "stream",
     "text": [
      "Index-time parameters {'M': 48, 'indexThreadQty': 4, 'efConstruction': 100}\n",
      "Indexing time = 0.399763\n"
     ]
    }
   ],
   "source": [
    "# Create an index\n",
    "start = time.time()\n",
    "index_time_params = {'M': M, 'indexThreadQty': num_threads, 'efConstruction': efC}\n",
    "index.createIndex(index_time_params)\n",
    "end = time.time()\n",
    "print('Index-time parameters', index_time_params)\n",
    "print('Indexing time = %f' % (end-start))"
   ]
  },
  {
   "cell_type": "code",
   "execution_count": 47,
   "id": "812eddf1",
   "metadata": {
    "ExecuteTime": {
     "end_time": "2022-12-13T16:00:43.678400Z",
     "start_time": "2022-12-13T16:00:43.672395Z"
    }
   },
   "outputs": [
    {
     "name": "stdout",
     "output_type": "stream",
     "text": [
      "Setting query-time parameters {'efSearch': 100}\n"
     ]
    }
   ],
   "source": [
    "# Setting query-time parameters\n",
    "efS = 100\n",
    "query_time_params = {'efSearch': efS}\n",
    "print('Setting query-time parameters', query_time_params)\n",
    "index.setQueryTimeParams(query_time_params)"
   ]
  },
  {
   "cell_type": "code",
   "execution_count": 48,
   "id": "bd237dd0",
   "metadata": {
    "ExecuteTime": {
     "end_time": "2022-12-13T16:00:45.354953Z",
     "start_time": "2022-12-13T16:00:45.351913Z"
    }
   },
   "outputs": [],
   "source": [
    "user_index = np.where(dataset.user_id_map.external_ids == 1032142)[0][0]\n",
    "query_matrix = augmented_user_embeddings[user_index]"
   ]
  },
  {
   "cell_type": "code",
   "execution_count": null,
   "id": "fa95a00e",
   "metadata": {
    "ExecuteTime": {
     "end_time": "2022-12-11T14:00:20.582682Z",
     "start_time": "2022-12-11T14:00:20.577781Z"
    }
   },
   "outputs": [],
   "source": [
    "query_matrix"
   ]
  },
  {
   "cell_type": "code",
   "execution_count": 49,
   "id": "78cba13f",
   "metadata": {
    "ExecuteTime": {
     "end_time": "2022-12-13T16:00:50.144361Z",
     "start_time": "2022-12-13T16:00:50.137062Z"
    }
   },
   "outputs": [
    {
     "name": "stdout",
     "output_type": "stream",
     "text": [
      "kNN time total=0.004150 (sec), per query=0.000062 (sec), per query adjusted for thread number=0.000248 (sec)\n"
     ]
    }
   ],
   "source": [
    "# Querying\n",
    "query_qty = query_matrix.shape[0]\n",
    "start = time.time()\n",
    "nbrs = index.knnQueryBatch([query_matrix], k = K, num_threads = num_threads)\n",
    "end = time.time()\n",
    "print('kNN time total=%f (sec), per query=%f (sec), per query adjusted for thread number=%f (sec)' %\n",
    "      (end-start, float(end-start)/query_qty, num_threads*float(end-start)/query_qty))"
   ]
  },
  {
   "cell_type": "code",
   "execution_count": 50,
   "id": "8e2ba0b9",
   "metadata": {
    "ExecuteTime": {
     "end_time": "2022-12-13T16:00:51.934578Z",
     "start_time": "2022-12-13T16:00:51.928628Z"
    }
   },
   "outputs": [],
   "source": [
    "nbrs = index.knnQueryBatch([query_matrix], k = K, num_threads = num_threads)"
   ]
  },
  {
   "cell_type": "code",
   "execution_count": 51,
   "id": "f0bbf3c3",
   "metadata": {
    "ExecuteTime": {
     "end_time": "2022-12-13T16:00:54.032963Z",
     "start_time": "2022-12-13T16:00:54.027870Z"
    }
   },
   "outputs": [
    {
     "data": {
      "text/plain": [
       "[(array([ 19,  43,  31,  32, 121,  62,  69,  86, 173, 100], dtype=int32),\n",
       "  array([-4.8828692, -4.839159 , -4.7850432, -4.7642865, -4.49287  ,\n",
       "         -4.484483 , -4.260762 , -4.2514887, -4.2418227, -4.239016 ],\n",
       "        dtype=float32))]"
      ]
     },
     "execution_count": 51,
     "metadata": {},
     "output_type": "execute_result"
    }
   ],
   "source": [
    "nbrs"
   ]
  },
  {
   "cell_type": "code",
   "execution_count": 52,
   "id": "2ae93b8e",
   "metadata": {
    "ExecuteTime": {
     "end_time": "2022-12-13T16:00:56.259866Z",
     "start_time": "2022-12-13T16:00:56.256343Z"
    }
   },
   "outputs": [
    {
     "data": {
      "text/plain": [
       "array([ 916352,  496279,  513902,  568405,  907474,  120361, 1058641,\n",
       "        611200,  393684,  868380])"
      ]
     },
     "execution_count": 52,
     "metadata": {},
     "output_type": "execute_result"
    }
   ],
   "source": [
    "dataset.user_id_map.external_ids[nbrs[0][0]]"
   ]
  },
  {
   "cell_type": "code",
   "execution_count": 53,
   "id": "38e189c3",
   "metadata": {
    "ExecuteTime": {
     "end_time": "2022-12-13T16:01:01.330164Z",
     "start_time": "2022-12-13T16:01:00.448216Z"
    }
   },
   "outputs": [],
   "source": [
    "user_id = 6064\n",
    "K_RECOS = 10\n",
    "N = 50\n",
    "cnt = Counter(train['item_id'].values)\n",
    "idf = pd.DataFrame.from_dict(cnt, orient='index', columns=['doc_freq']).reset_index()\n",
    "n = train.shape[0]\n",
    "idf['idf'] = idf['doc_freq'].apply(lambda x: np.log((1 + n) / (1 + x) + 1))\n",
    "\n",
    "users_inv_mapping = dict(enumerate(train['user_id'].unique()))\n",
    "users_mapping = {v: k for k, v in users_inv_mapping.items()}\n",
    "\n",
    "\n",
    "items_inv_mapping = dict(enumerate(train['item_id'].unique()))\n",
    "items_mapping = {v: k for k, v in items_inv_mapping.items()}\n",
    "\n",
    "\n",
    "def generate_implicit_recs_mapper(model, N, users_mapping, users_inv_mapping):\n",
    "    def _recs_mapper(user):\n",
    "        user_id = users_mapping[user]\n",
    "        recs = model.similar_items(user_id, N=N)\n",
    "        return [users_inv_mapping[user] for user, _ in recs], [sim for _, sim in recs]\n",
    "    return _recs_mapper"
   ]
  },
  {
   "cell_type": "code",
   "execution_count": 55,
   "id": "9c59e7d7",
   "metadata": {
    "ExecuteTime": {
     "end_time": "2022-12-13T16:02:02.014226Z",
     "start_time": "2022-12-13T16:01:48.015919Z"
    }
   },
   "outputs": [
    {
     "data": {
      "text/html": [
       "<div>\n",
       "<style scoped>\n",
       "    .dataframe tbody tr th:only-of-type {\n",
       "        vertical-align: middle;\n",
       "    }\n",
       "\n",
       "    .dataframe tbody tr th {\n",
       "        vertical-align: top;\n",
       "    }\n",
       "\n",
       "    .dataframe thead th {\n",
       "        text-align: right;\n",
       "    }\n",
       "</style>\n",
       "<table border=\"1\" class=\"dataframe\">\n",
       "  <thead>\n",
       "    <tr style=\"text-align: right;\">\n",
       "      <th></th>\n",
       "      <th>item_id</th>\n",
       "    </tr>\n",
       "    <tr>\n",
       "      <th>user_id</th>\n",
       "      <th></th>\n",
       "    </tr>\n",
       "  </thead>\n",
       "  <tbody>\n",
       "    <tr>\n",
       "      <th>0</th>\n",
       "      <td>[15297]</td>\n",
       "    </tr>\n",
       "    <tr>\n",
       "      <th>1</th>\n",
       "      <td>[10440]</td>\n",
       "    </tr>\n",
       "    <tr>\n",
       "      <th>2</th>\n",
       "      <td>[7571, 3541, 15266, 13867, 12841, 10770, 4475,...</td>\n",
       "    </tr>\n",
       "    <tr>\n",
       "      <th>3</th>\n",
       "      <td>[12192, 9728, 16406, 15719, 10440, 3475, 4151,...</td>\n",
       "    </tr>\n",
       "    <tr>\n",
       "      <th>4</th>\n",
       "      <td>[4700]</td>\n",
       "    </tr>\n",
       "  </tbody>\n",
       "</table>\n",
       "</div>"
      ],
      "text/plain": [
       "                                                   item_id\n",
       "user_id                                                   \n",
       "0                                                  [15297]\n",
       "1                                                  [10440]\n",
       "2        [7571, 3541, 15266, 13867, 12841, 10770, 4475,...\n",
       "3        [12192, 9728, 16406, 15719, 10440, 3475, 4151,...\n",
       "4                                                   [4700]"
      ]
     },
     "execution_count": 55,
     "metadata": {},
     "output_type": "execute_result"
    }
   ],
   "source": [
    "watched = train.groupby('user_id').agg({'item_id': list})\n",
    "watched.head()"
   ]
  },
  {
   "cell_type": "code",
   "execution_count": 56,
   "id": "87b4cc54",
   "metadata": {
    "ExecuteTime": {
     "end_time": "2022-12-13T16:02:38.968792Z",
     "start_time": "2022-12-13T16:02:34.566682Z"
    }
   },
   "outputs": [],
   "source": [
    "wwatched = {k:v['item_id'] for k,v in json.loads(watched.T.to_json()).items()}"
   ]
  },
  {
   "cell_type": "code",
   "execution_count": 62,
   "id": "9fab91e9",
   "metadata": {
    "ExecuteTime": {
     "end_time": "2022-12-13T16:23:51.232135Z",
     "start_time": "2022-12-13T16:23:51.227247Z"
    }
   },
   "outputs": [],
   "source": [
    "def recommend_nmslib(user_id, k_recos):\n",
    "    recss = {}\n",
    "    user_index = np.where(dataset.user_id_map.external_ids == user_id)\n",
    "    if len(user_index[0]):\n",
    "        user_index = user_index[0][0]\n",
    "        query_matrix = augmented_user_embeddings[user_index]\n",
    "        nbrs = index.knnQueryBatch([query_matrix],\n",
    "                                   k=K,\n",
    "                                   num_threads=num_threads)\n",
    "        recss['similar_user_id'], recss[\n",
    "            'similarity'] = dataset.user_id_map.external_ids[nbrs[0][0]], nbrs[0][1]\n",
    "        recss['item_id'] = [\n",
    "            wwatched.get(f\"{x}\") for x in recss['similar_user_id']\n",
    "        ]\n",
    "        recs = pd.DataFrame(recss)\n",
    "        recs = recs.explode('item_id')\n",
    "        recs = recs.sort_values(['similarity'], ascending=False)\n",
    "#         recs = recs.merge(idf[['index', 'idf']],\n",
    "#                           left_on='item_id',\n",
    "#                           right_on='index',\n",
    "#                           how='left').drop(['index'], axis=1)\n",
    "#         recs['rank_idf'] = recs['similarity'] * recs['idf']\n",
    "#         recs = recs.sort_values(['rank_idf'], ascending=False)\n",
    "        recs.dropna(inplace=True)\n",
    "        return recs['item_id'].unique()[:k_recos]\n",
    "    else:\n",
    "        return None"
   ]
  },
  {
   "cell_type": "code",
   "execution_count": 58,
   "id": "339d89a3",
   "metadata": {
    "ExecuteTime": {
     "end_time": "2022-12-13T16:21:19.484206Z",
     "start_time": "2022-12-13T16:02:43.533021Z"
    },
    "scrolled": true
   },
   "outputs": [],
   "source": [
    "res = []\n",
    "for user in TEST_USERS[:]:\n",
    "    user_index = np.where(dataset.user_id_map.external_ids == user)\n",
    "    if len(user_index[0]):\n",
    "        labels = recommend_nmslib(user, k_recos=10)\n",
    "        labels_u = np.zeros((len(labels), 3), dtype=int)\n",
    "        labels_u[:, 0] = user\n",
    "\n",
    "        # проставляем порядок треков\n",
    "        labels_u[:, 2] = range(len(labels))\n",
    "        labels_u[:, 1] = labels\n",
    "        res.extend(labels_u)"
   ]
  },
  {
   "cell_type": "code",
   "execution_count": 59,
   "id": "073a52bd",
   "metadata": {
    "ExecuteTime": {
     "end_time": "2022-12-13T16:22:18.130808Z",
     "start_time": "2022-12-13T16:22:16.267891Z"
    }
   },
   "outputs": [],
   "source": [
    "recos_ = pd.DataFrame(res, columns=['user_id', 'item_id', 'rank'])"
   ]
  },
  {
   "cell_type": "code",
   "execution_count": 60,
   "id": "a275a9af",
   "metadata": {
    "ExecuteTime": {
     "end_time": "2022-12-13T16:22:20.352128Z",
     "start_time": "2022-12-13T16:22:19.292120Z"
    }
   },
   "outputs": [],
   "source": [
    "# подсчет метрик\n",
    "results = []\n",
    "model_quality = {'model': 'nmslib'}\n",
    "metric_values = calc_metrics(metrics, recos_, test, train)\n",
    "model_quality.update(metric_values)\n",
    "results.append(model_quality)\n",
    "\n",
    "df_quality = pd.DataFrame(results).T\n",
    "\n",
    "df_quality.columns = df_quality.iloc[0]\n",
    "\n",
    "df_quality.drop('model', inplace=True)"
   ]
  },
  {
   "cell_type": "code",
   "execution_count": 61,
   "id": "db95d514",
   "metadata": {
    "ExecuteTime": {
     "end_time": "2022-12-13T16:22:21.414081Z",
     "start_time": "2022-12-13T16:22:21.379848Z"
    },
    "scrolled": true
   },
   "outputs": [
    {
     "data": {
      "text/html": [
       "<style type=\"text/css\">\n",
       "#T_fe9c9_row0_col0, #T_fe9c9_row1_col0, #T_fe9c9_row2_col0, #T_fe9c9_row3_col0, #T_fe9c9_row4_col0, #T_fe9c9_row5_col0, #T_fe9c9_row6_col0, #T_fe9c9_row7_col0, #T_fe9c9_row8_col0, #T_fe9c9_row9_col0, #T_fe9c9_row10_col0, #T_fe9c9_row11_col0, #T_fe9c9_row12_col0, #T_fe9c9_row13_col0, #T_fe9c9_row14_col0, #T_fe9c9_row15_col0, #T_fe9c9_row16_col0, #T_fe9c9_row17_col0, #T_fe9c9_row18_col0, #T_fe9c9_row19_col0, #T_fe9c9_row20_col0, #T_fe9c9_row21_col0, #T_fe9c9_row22_col0, #T_fe9c9_row23_col0, #T_fe9c9_row24_col0, #T_fe9c9_row25_col0, #T_fe9c9_row26_col0, #T_fe9c9_row27_col0, #T_fe9c9_row28_col0, #T_fe9c9_row29_col0 {\n",
       "  background-color: lightgreen;\n",
       "}\n",
       "</style>\n",
       "<table id=\"T_fe9c9\">\n",
       "  <thead>\n",
       "    <tr>\n",
       "      <th class=\"index_name level0\" >model</th>\n",
       "      <th id=\"T_fe9c9_level0_col0\" class=\"col_heading level0 col0\" >nmslib</th>\n",
       "    </tr>\n",
       "  </thead>\n",
       "  <tbody>\n",
       "    <tr>\n",
       "      <th id=\"T_fe9c9_level0_row0\" class=\"row_heading level0 row0\" >Precision@1</th>\n",
       "      <td id=\"T_fe9c9_row0_col0\" class=\"data row0 col0\" >0.022500</td>\n",
       "    </tr>\n",
       "    <tr>\n",
       "      <th id=\"T_fe9c9_level0_row1\" class=\"row_heading level0 row1\" >Recall@1</th>\n",
       "      <td id=\"T_fe9c9_row1_col0\" class=\"data row1 col0\" >0.011948</td>\n",
       "    </tr>\n",
       "    <tr>\n",
       "      <th id=\"T_fe9c9_level0_row2\" class=\"row_heading level0 row2\" >Precision@2</th>\n",
       "      <td id=\"T_fe9c9_row2_col0\" class=\"data row2 col0\" >0.015322</td>\n",
       "    </tr>\n",
       "    <tr>\n",
       "      <th id=\"T_fe9c9_level0_row3\" class=\"row_heading level0 row3\" >Recall@2</th>\n",
       "      <td id=\"T_fe9c9_row3_col0\" class=\"data row3 col0\" >0.015885</td>\n",
       "    </tr>\n",
       "    <tr>\n",
       "      <th id=\"T_fe9c9_level0_row4\" class=\"row_heading level0 row4\" >Precision@3</th>\n",
       "      <td id=\"T_fe9c9_row4_col0\" class=\"data row4 col0\" >0.012595</td>\n",
       "    </tr>\n",
       "    <tr>\n",
       "      <th id=\"T_fe9c9_level0_row5\" class=\"row_heading level0 row5\" >Recall@3</th>\n",
       "      <td id=\"T_fe9c9_row5_col0\" class=\"data row5 col0\" >0.018881</td>\n",
       "    </tr>\n",
       "    <tr>\n",
       "      <th id=\"T_fe9c9_level0_row6\" class=\"row_heading level0 row6\" >Precision@4</th>\n",
       "      <td id=\"T_fe9c9_row6_col0\" class=\"data row6 col0\" >0.011150</td>\n",
       "    </tr>\n",
       "    <tr>\n",
       "      <th id=\"T_fe9c9_level0_row7\" class=\"row_heading level0 row7\" >Recall@4</th>\n",
       "      <td id=\"T_fe9c9_row7_col0\" class=\"data row7 col0\" >0.022101</td>\n",
       "    </tr>\n",
       "    <tr>\n",
       "      <th id=\"T_fe9c9_level0_row8\" class=\"row_heading level0 row8\" >Precision@5</th>\n",
       "      <td id=\"T_fe9c9_row8_col0\" class=\"data row8 col0\" >0.010239</td>\n",
       "    </tr>\n",
       "    <tr>\n",
       "      <th id=\"T_fe9c9_level0_row9\" class=\"row_heading level0 row9\" >Recall@5</th>\n",
       "      <td id=\"T_fe9c9_row9_col0\" class=\"data row9 col0\" >0.024974</td>\n",
       "    </tr>\n",
       "    <tr>\n",
       "      <th id=\"T_fe9c9_level0_row10\" class=\"row_heading level0 row10\" >Precision@6</th>\n",
       "      <td id=\"T_fe9c9_row10_col0\" class=\"data row10 col0\" >0.008980</td>\n",
       "    </tr>\n",
       "    <tr>\n",
       "      <th id=\"T_fe9c9_level0_row11\" class=\"row_heading level0 row11\" >Recall@6</th>\n",
       "      <td id=\"T_fe9c9_row11_col0\" class=\"data row11 col0\" >0.026142</td>\n",
       "    </tr>\n",
       "    <tr>\n",
       "      <th id=\"T_fe9c9_level0_row12\" class=\"row_heading level0 row12\" >Precision@7</th>\n",
       "      <td id=\"T_fe9c9_row12_col0\" class=\"data row12 col0\" >0.008072</td>\n",
       "    </tr>\n",
       "    <tr>\n",
       "      <th id=\"T_fe9c9_level0_row13\" class=\"row_heading level0 row13\" >Recall@7</th>\n",
       "      <td id=\"T_fe9c9_row13_col0\" class=\"data row13 col0\" >0.027157</td>\n",
       "    </tr>\n",
       "    <tr>\n",
       "      <th id=\"T_fe9c9_level0_row14\" class=\"row_heading level0 row14\" >Precision@8</th>\n",
       "      <td id=\"T_fe9c9_row14_col0\" class=\"data row14 col0\" >0.007603</td>\n",
       "    </tr>\n",
       "    <tr>\n",
       "      <th id=\"T_fe9c9_level0_row15\" class=\"row_heading level0 row15\" >Recall@8</th>\n",
       "      <td id=\"T_fe9c9_row15_col0\" class=\"data row15 col0\" >0.029008</td>\n",
       "    </tr>\n",
       "    <tr>\n",
       "      <th id=\"T_fe9c9_level0_row16\" class=\"row_heading level0 row16\" >Precision@9</th>\n",
       "      <td id=\"T_fe9c9_row16_col0\" class=\"data row16 col0\" >0.007019</td>\n",
       "    </tr>\n",
       "    <tr>\n",
       "      <th id=\"T_fe9c9_level0_row17\" class=\"row_heading level0 row17\" >Recall@9</th>\n",
       "      <td id=\"T_fe9c9_row17_col0\" class=\"data row17 col0\" >0.030079</td>\n",
       "    </tr>\n",
       "    <tr>\n",
       "      <th id=\"T_fe9c9_level0_row18\" class=\"row_heading level0 row18\" >Precision@10</th>\n",
       "      <td id=\"T_fe9c9_row18_col0\" class=\"data row18 col0\" >0.006317</td>\n",
       "    </tr>\n",
       "    <tr>\n",
       "      <th id=\"T_fe9c9_level0_row19\" class=\"row_heading level0 row19\" >Recall@10</th>\n",
       "      <td id=\"T_fe9c9_row19_col0\" class=\"data row19 col0\" >0.030079</td>\n",
       "    </tr>\n",
       "    <tr>\n",
       "      <th id=\"T_fe9c9_level0_row20\" class=\"row_heading level0 row20\" >MAP@1</th>\n",
       "      <td id=\"T_fe9c9_row20_col0\" class=\"data row20 col0\" >0.006722</td>\n",
       "    </tr>\n",
       "    <tr>\n",
       "      <th id=\"T_fe9c9_level0_row21\" class=\"row_heading level0 row21\" >MAP@2</th>\n",
       "      <td id=\"T_fe9c9_row21_col0\" class=\"data row21 col0\" >0.008859</td>\n",
       "    </tr>\n",
       "    <tr>\n",
       "      <th id=\"T_fe9c9_level0_row22\" class=\"row_heading level0 row22\" >MAP@3</th>\n",
       "      <td id=\"T_fe9c9_row22_col0\" class=\"data row22 col0\" >0.009964</td>\n",
       "    </tr>\n",
       "    <tr>\n",
       "      <th id=\"T_fe9c9_level0_row23\" class=\"row_heading level0 row23\" >MAP@4</th>\n",
       "      <td id=\"T_fe9c9_row23_col0\" class=\"data row23 col0\" >0.010873</td>\n",
       "    </tr>\n",
       "    <tr>\n",
       "      <th id=\"T_fe9c9_level0_row24\" class=\"row_heading level0 row24\" >MAP@5</th>\n",
       "      <td id=\"T_fe9c9_row24_col0\" class=\"data row24 col0\" >0.011548</td>\n",
       "    </tr>\n",
       "    <tr>\n",
       "      <th id=\"T_fe9c9_level0_row25\" class=\"row_heading level0 row25\" >MAP@6</th>\n",
       "      <td id=\"T_fe9c9_row25_col0\" class=\"data row25 col0\" >0.011787</td>\n",
       "    </tr>\n",
       "    <tr>\n",
       "      <th id=\"T_fe9c9_level0_row26\" class=\"row_heading level0 row26\" >MAP@7</th>\n",
       "      <td id=\"T_fe9c9_row26_col0\" class=\"data row26 col0\" >0.011970</td>\n",
       "    </tr>\n",
       "    <tr>\n",
       "      <th id=\"T_fe9c9_level0_row27\" class=\"row_heading level0 row27\" >MAP@8</th>\n",
       "      <td id=\"T_fe9c9_row27_col0\" class=\"data row27 col0\" >0.012259</td>\n",
       "    </tr>\n",
       "    <tr>\n",
       "      <th id=\"T_fe9c9_level0_row28\" class=\"row_heading level0 row28\" >MAP@9</th>\n",
       "      <td id=\"T_fe9c9_row28_col0\" class=\"data row28 col0\" >0.012399</td>\n",
       "    </tr>\n",
       "    <tr>\n",
       "      <th id=\"T_fe9c9_level0_row29\" class=\"row_heading level0 row29\" >MAP@10</th>\n",
       "      <td id=\"T_fe9c9_row29_col0\" class=\"data row29 col0\" >0.012399</td>\n",
       "    </tr>\n",
       "  </tbody>\n",
       "</table>\n"
      ],
      "text/plain": [
       "<pandas.io.formats.style.Styler at 0x7f03384c1700>"
      ]
     },
     "execution_count": 61,
     "metadata": {},
     "output_type": "execute_result"
    }
   ],
   "source": [
    "df_quality.style.highlight_max(color='lightgreen', axis=1)"
   ]
  }
 ],
 "metadata": {
  "kernelspec": {
   "display_name": "Python 3 (ipykernel)",
   "language": "python",
   "name": "python3"
  },
  "language_info": {
   "codemirror_mode": {
    "name": "ipython",
    "version": 3
   },
   "file_extension": ".py",
   "mimetype": "text/x-python",
   "name": "python",
   "nbconvert_exporter": "python",
   "pygments_lexer": "ipython3",
   "version": "3.8.10"
  },
  "toc": {
   "base_numbering": 1,
   "nav_menu": {},
   "number_sections": true,
   "sideBar": true,
   "skip_h1_title": true,
   "title_cell": "Table of Contents",
   "title_sidebar": "Contents",
   "toc_cell": false,
   "toc_position": {
    "height": "calc(100% - 180px)",
    "left": "10px",
    "top": "150px",
    "width": "289.754px"
   },
   "toc_section_display": true,
   "toc_window_display": true
  }
 },
 "nbformat": 4,
 "nbformat_minor": 5
}
